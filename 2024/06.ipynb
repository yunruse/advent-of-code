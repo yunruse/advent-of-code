{
 "cells": [
  {
   "cell_type": "code",
   "execution_count": 1,
   "metadata": {},
   "outputs": [
    {
     "data": {
      "text/plain": [
       "(130, 130)"
      ]
     },
     "execution_count": 1,
     "metadata": {},
     "output_type": "execute_result"
    }
   ],
   "source": [
    "with open('06.txt') as f:\n",
    "    grid = [line.strip() for line in f.readlines()]\n",
    "\n",
    "len(grid), len(grid[0])"
   ]
  },
  {
   "cell_type": "markdown",
   "metadata": {},
   "source": [
    "# Part 1: Positions"
   ]
  },
  {
   "cell_type": "code",
   "execution_count": 2,
   "metadata": {},
   "outputs": [],
   "source": [
    "DIRECTIONS = [\n",
    "    # line, col\n",
    "    (-1,  0), # up\n",
    "    ( 0,  1), # right\n",
    "    (+1,  0), # down\n",
    "    ( 0, -1), # left\n",
    "]\n",
    "from itertools import cycle\n",
    "\n",
    "def find_char(array: list[str], search: str):\n",
    "    for y, line in enumerate(array):\n",
    "        for x, char in enumerate(line):\n",
    "            if char == search:\n",
    "                return x, y"
   ]
  },
  {
   "cell_type": "markdown",
   "metadata": {},
   "source": [
    "Because we want to count the **unique** positions - including crossovers! - our options are to either\n",
    "- replace each character with an `'X'` and count at the end\n",
    "- record a `set` of all coordinates crossed\n",
    "\n",
    "The two are probably pretty comparable on grounds of efficiency. The former is probably easier to debug, but the latter is slightly easier to code, so we'll do that.\n",
    "\n",
    "We're going to make the **assumption** that the guard eventually leaves the boundary, so we won't check for if otherwise."
   ]
  },
  {
   "cell_type": "code",
   "execution_count": 3,
   "metadata": {},
   "outputs": [
    {
     "name": "stdout",
     "output_type": "stream",
     "text": [
      "4964\n"
     ]
    }
   ],
   "source": [
    "def walk(array):\n",
    "    x, y = find_char(array, '^')\n",
    "    coords_seen = {(x, y)}\n",
    "    for dy, dx in cycle(DIRECTIONS):\n",
    "        # print(dx, dy)\n",
    "        while array[y+dy][x+dx] != '#':\n",
    "            y += dy\n",
    "            x += dx\n",
    "            coords_seen.add((x, y))\n",
    "            if not (0 <= y+dy < len(array)):\n",
    "                # print('y', x, y)\n",
    "                return coords_seen\n",
    "            if not (0 <= x+dx < len(array[y])):\n",
    "                # print('x', x, y)\n",
    "                return coords_seen\n",
    "\n",
    "path = walk(grid)\n",
    "print(len(path))\n",
    "\n",
    "# grid2 = [list(line) for line in grid]\n",
    "# for x, y in path:\n",
    "#     grid2[y][x] = grid2[y][x].replace('.', 'X')\n",
    "\n",
    "# print('\\n'.join(''.join(line) for line in grid2))"
   ]
  },
  {
   "cell_type": "markdown",
   "metadata": {},
   "source": [
    "# Part 2: Positions we could cause a loop from"
   ]
  },
  {
   "cell_type": "markdown",
   "metadata": {},
   "source": [
    "It's self-evident that we can only cause loops by putting a block in one of the positions on `path`. That's great! It means we need only try them all and see if there is a loop.\n",
    "\n",
    "How we test for a loop isn't too difficult: we'll store a set of `(x, y, direction)` tuples and, if we see a duplicate, we've found ourselves a loop. Note that, as the examples show, the loop might not include the starting position!"
   ]
  },
  {
   "cell_type": "code",
   "execution_count": 4,
   "metadata": {},
   "outputs": [
    {
     "data": {
      "text/plain": [
       "1740"
      ]
     },
     "execution_count": 4,
     "metadata": {},
     "output_type": "execute_result"
    }
   ],
   "source": [
    "def does_loop(array: list[str]):\n",
    "    start_pos = find_char(array, '^')\n",
    "    if start_pos is None:\n",
    "        # oops! we replaced the guard with an obstacle\n",
    "        return False\n",
    "    x, y = start_pos\n",
    "\n",
    "    coords_seen = set()\n",
    "    for dy, dx in cycle(DIRECTIONS):\n",
    "        while array[y+dy][x+dx] != '#':\n",
    "            position = (x, y, dy, dx)\n",
    "            if position in coords_seen:\n",
    "                return True\n",
    "            coords_seen.add(position)\n",
    "            y += dy\n",
    "            x += dx\n",
    "            if not (0 <= y+dy < len(array)):\n",
    "                return False\n",
    "            if not (0 <= x+dx < len(array[y])):\n",
    "                return False\n",
    "\n",
    "does_loop(grid)\n",
    "\n",
    "def add_obstacle(array, x, y):\n",
    "    array2 = list(array)\n",
    "    line = list(array2[y])\n",
    "    line[x] = '#'\n",
    "    array2[y] = ''.join(line)\n",
    "    return array2\n",
    "\n",
    "sum(does_loop(add_obstacle(grid, x, y)) for (x, y) in path)"
   ]
  }
 ],
 "metadata": {
  "kernelspec": {
   "display_name": "Python 3",
   "language": "python",
   "name": "python3"
  },
  "language_info": {
   "codemirror_mode": {
    "name": "ipython",
    "version": 3
   },
   "file_extension": ".py",
   "mimetype": "text/x-python",
   "name": "python",
   "nbconvert_exporter": "python",
   "pygments_lexer": "ipython3",
   "version": "3.12.7"
  }
 },
 "nbformat": 4,
 "nbformat_minor": 2
}
