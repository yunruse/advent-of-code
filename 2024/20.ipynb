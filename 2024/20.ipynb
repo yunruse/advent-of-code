{
 "cells": [
  {
   "cell_type": "code",
   "execution_count": 95,
   "metadata": {},
   "outputs": [],
   "source": [
    "with open('20.txt') as f:\n",
    "    GRID = f.read().split('\\n')"
   ]
  },
  {
   "cell_type": "markdown",
   "metadata": {},
   "source": [
    "As this is a **racetrack** and not a maze, we need not do any _A\\*_ shenanigans – just a simple traversal."
   ]
  },
  {
   "cell_type": "code",
   "execution_count": 96,
   "metadata": {},
   "outputs": [
    {
     "data": {
      "text/plain": [
       "9320"
      ]
     },
     "execution_count": 96,
     "metadata": {},
     "output_type": "execute_result"
    }
   ],
   "source": [
    "DIRECTIONS = [\n",
    "    (0, 1),\n",
    "    (0, -1),\n",
    "    (1, 0),\n",
    "    (-1, 0),\n",
    "]\n",
    "\n",
    "def find(match_char: str):\n",
    "    for y, line in enumerate(GRID):\n",
    "        for x, char in enumerate(line):\n",
    "            if char == match_char:\n",
    "                return (x, y)\n",
    "\n",
    "START, END = find('S'), find('E')\n",
    "\n",
    "PATH = [START]\n",
    "coord = START\n",
    "while coord != END:\n",
    "    x, y = coord\n",
    "    for dx, dy in DIRECTIONS:\n",
    "        sx, sy = x+dx, y+dy\n",
    "        if (sx, sy) in PATH:\n",
    "            continue\n",
    "        if GRID[sy][sx] in 'S#':\n",
    "            continue\n",
    "        break\n",
    "    coord = sx, sy\n",
    "    PATH.append(coord)\n",
    "len(PATH) - 1"
   ]
  },
  {
   "cell_type": "markdown",
   "metadata": {},
   "source": [
    "# Part 1: Length-two skips"
   ]
  },
  {
   "cell_type": "code",
   "execution_count": 97,
   "metadata": {},
   "outputs": [
    {
     "data": {
      "text/plain": [
       "1311"
      ]
     },
     "execution_count": 97,
     "metadata": {},
     "output_type": "execute_result"
    }
   ],
   "source": [
    "from collections import Counter\n",
    "\n",
    "\n",
    "def get_skips(max_cheat: int):\n",
    "    skips = Counter()\n",
    "    for i, (x0, y0) in enumerate(PATH):\n",
    "        for traversal_time, (x1, y1) in enumerate(PATH[i:]):\n",
    "            distance = abs(y1-y0) + abs(x1-x0)\n",
    "            if distance > max_cheat:\n",
    "                continue\n",
    "            savings = traversal_time - distance\n",
    "            if savings > 0:\n",
    "                skips[savings] += 1\n",
    "    return skips\n",
    "\n",
    "sum(N for x, N in get_skips(2).items() if x >= 100)\n"
   ]
  },
  {
   "cell_type": "markdown",
   "metadata": {},
   "source": [
    "# Part 2: Length-20 skips"
   ]
  },
  {
   "cell_type": "code",
   "execution_count": 98,
   "metadata": {},
   "outputs": [
    {
     "data": {
      "text/plain": [
       "961364"
      ]
     },
     "execution_count": 98,
     "metadata": {},
     "output_type": "execute_result"
    }
   ],
   "source": [
    "sum(N for x, N in get_skips(20).items() if x >= 100)"
   ]
  }
 ],
 "metadata": {
  "kernelspec": {
   "display_name": "Python 3",
   "language": "python",
   "name": "python3"
  },
  "language_info": {
   "codemirror_mode": {
    "name": "ipython",
    "version": 3
   },
   "file_extension": ".py",
   "mimetype": "text/x-python",
   "name": "python",
   "nbconvert_exporter": "python",
   "pygments_lexer": "ipython3",
   "version": "3.12.7"
  }
 },
 "nbformat": 4,
 "nbformat_minor": 2
}
