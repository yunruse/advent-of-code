{
 "cells": [
  {
   "cell_type": "code",
   "execution_count": 2,
   "metadata": {},
   "outputs": [],
   "source": [
    "from dataclasses import dataclass, field\n",
    "from enum import IntEnum\n",
    "\n",
    "@dataclass\n",
    "class State:\n",
    "    a: int\n",
    "    b: int = 0\n",
    "    c: int = 0\n",
    "    pc: int = 0\n",
    "    out: list[int] = field(default_factory=list)\n",
    "\n",
    "with open('17.txt') as f:\n",
    "    A, B, C, _, p = [l.split(': ')[-1] for l in f.read().splitlines()]\n",
    "    program = list(map(int, p.split(',')))\n"
   ]
  },
  {
   "cell_type": "markdown",
   "metadata": {},
   "source": [
    "# Part 1: Computation"
   ]
  },
  {
   "cell_type": "code",
   "execution_count": 3,
   "metadata": {},
   "outputs": [
    {
     "name": "stdout",
     "output_type": "stream",
     "text": [
      "5,0,3,5,7,6,1,5,4\n"
     ]
    }
   ],
   "source": [
    "class Op(IntEnum):\n",
    "    adv = 0\n",
    "    bxl = 1\n",
    "    bst = 2\n",
    "    jnz = 3\n",
    "    bxc = 4\n",
    "    out = 5\n",
    "    bdv = 6\n",
    "    cdv = 7\n",
    "\n",
    "READ_COMBO = {Op.adv, Op.bdv, Op.cdv, Op.bst, Op.out}\n",
    "\n",
    "def run(\n",
    "    program: list[tuple[Op, int]],\n",
    "    state: State,\n",
    "    desired: list[int] = None,\n",
    "):\n",
    "    while state.pc < len(program):\n",
    "        op = program[state.pc]\n",
    "        operand = program[state.pc + 1]\n",
    "        state.pc += 2\n",
    "        op = Op(op)\n",
    "        if op in READ_COMBO:\n",
    "            match operand:\n",
    "                case 4: operand = state.a\n",
    "                case 5: operand = state.b\n",
    "                case 6: operand = state.c\n",
    "        # print(state, op.name, operand)\n",
    "        match op:\n",
    "            case Op.adv:\n",
    "                state.a = state.a >> operand\n",
    "            case Op.bxl:\n",
    "                state.b = state.b ^ operand\n",
    "            case Op.bst:\n",
    "                state.b = operand % 8\n",
    "            case Op.jnz:\n",
    "                if state.a != 0:\n",
    "                    state.pc = operand\n",
    "            case Op.bxc:\n",
    "                state.b = state.b ^ state.c\n",
    "            case Op.out:\n",
    "                state.out.append(operand % 8)\n",
    "            case Op.bdv:\n",
    "                state.b = state.a >> operand\n",
    "            case Op.cdv:\n",
    "                state.c = state.a >> operand\n",
    "        if desired is not None:\n",
    "            if len(state.out) >= len(desired):\n",
    "                return state\n",
    "            if not all(a == d for a, d in zip(state.out, desired)):\n",
    "                return state\n",
    "    return state\n",
    "\n",
    "state = run(program, State(int(A), int(B), int(C)))\n",
    "print(','.join(map(str, state.out)))"
   ]
  },
  {
   "cell_type": "markdown",
   "metadata": {},
   "source": [
    "# Part 2: Taking a Nibble out of A"
   ]
  },
  {
   "cell_type": "markdown",
   "metadata": {},
   "source": [
    "Let's figure out how to analyse the code we've been given:"
   ]
  },
  {
   "cell_type": "code",
   "execution_count": 4,
   "metadata": {},
   "outputs": [
    {
     "name": "stdout",
     "output_type": "stream",
     "text": [
      "0 B = A % 8\n",
      "1 B = B ^ 1\n",
      "2 C = A >> B\n",
      "3 B = B ^ 5\n",
      "4 A = A >> 3\n",
      "5 B = B ^ C\n",
      "6 print(B % 8)\n",
      "7 if A != 0: PC = 0\n"
     ]
    }
   ],
   "source": [
    "def pprint(program: list[int]):\n",
    "    for i in range(len(program) // 2):\n",
    "        op = program[2*i]\n",
    "        operand = program[2*i+1]\n",
    "        if op in READ_COMBO:\n",
    "            match operand:\n",
    "                case 4: operand = 'A'\n",
    "                case 5: operand = 'B'\n",
    "                case 6: operand = 'C'\n",
    "        match op:\n",
    "            case Op.adv:\n",
    "                line = f'A = A >> {operand}'\n",
    "            case Op.bxl:\n",
    "                line = f'B = B ^ {operand}'\n",
    "            case Op.bst:\n",
    "                line = f'B = {operand} % 8'\n",
    "            case Op.jnz:\n",
    "                line = f'if A != 0: PC = {operand}'\n",
    "            case Op.bxc:\n",
    "                line = 'B = B ^ C'\n",
    "            case Op.out:\n",
    "                line = f'print({operand} % 8)'\n",
    "            case Op.bdv:\n",
    "                line = f'B = A >> {operand}'\n",
    "            case Op.cdv:\n",
    "                line = f'C = A >> {operand}'\n",
    "        print(i, line)\n",
    "\n",
    "pprint(program)"
   ]
  },
  {
   "cell_type": "markdown",
   "metadata": {},
   "source": [
    "While a bit arcane, if we rewrite it we see a bit more of the underlying methodology:\n",
    "```\n",
    "while A:\n",
    "   B = (A % 8) ^ 1\n",
    "   C = A >> B\n",
    "   push ((B ^ 5) ^ C) % 8\n",
    "   A = A // 8\n",
    "```"
   ]
  },
  {
   "cell_type": "markdown",
   "metadata": {},
   "source": [
    "The `A>>B` behaviour means we can't really do much in the way of XORing. However, this loop shows that really this is a function on the _input nibbles_ of A. More telling is that we only look backwards, not ahead – that is to say, nibble _i_ of the output depends ONLY on nibbles _0...i_ of the input. In other words:"
   ]
  },
  {
   "cell_type": "code",
   "execution_count": null,
   "metadata": {},
   "outputs": [],
   "source": [
    "def emulate(a: int):\n",
    "    while a:\n",
    "        b = (a % 8) ^ 1\n",
    "        c = a >> b\n",
    "        yield ((b ^ 5) ^ c) % 8\n",
    "        a //= 8\n",
    "\n",
    "from random import randint\n",
    "\n",
    "a_start = randint(0, 1_000_000)\n",
    "assert list(emulate(a_start)) == run(program, State(a_start)).out"
   ]
  },
  {
   "cell_type": "code",
   "execution_count": 19,
   "metadata": {},
   "outputs": [
    {
     "data": {
      "text/plain": [
       "164516454365621"
      ]
     },
     "execution_count": 19,
     "metadata": {},
     "output_type": "execute_result"
    }
   ],
   "source": [
    "def solve(a_start=0, j=15):\n",
    "    if j == -1:\n",
    "        yield a_start\n",
    "        return\n",
    "    for n in range(8):\n",
    "        a = a_start + n*8**j\n",
    "        output = list(emulate(a))\n",
    "        if len(output) != len(program):\n",
    "            continue\n",
    "        if output[j] == program[j]:\n",
    "            yield from solve(a, j-1)\n",
    "\n",
    "min(solve())"
   ]
  }
 ],
 "metadata": {
  "kernelspec": {
   "display_name": "Python 3",
   "language": "python",
   "name": "python3"
  },
  "language_info": {
   "codemirror_mode": {
    "name": "ipython",
    "version": 3
   },
   "file_extension": ".py",
   "mimetype": "text/x-python",
   "name": "python",
   "nbconvert_exporter": "python",
   "pygments_lexer": "ipython3",
   "version": "3.12.7"
  }
 },
 "nbformat": 4,
 "nbformat_minor": 2
}
