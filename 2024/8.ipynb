{
 "cells": [
  {
   "cell_type": "code",
   "execution_count": 4,
   "metadata": {},
   "outputs": [],
   "source": [
    "with open('8.txt') as f:\n",
    "    grid = [line.strip() for line in f.readlines()]\n",
    "\n",
    "Coord = tuple[int, int]\n",
    "coords: dict[str, list[Coord]] = dict()\n",
    "for y, line in enumerate(grid):\n",
    "    for x, char in enumerate(line):\n",
    "        if char == '.':\n",
    "            continue\n",
    "        coords.setdefault(char, []).append((x, y))"
   ]
  },
  {
   "cell_type": "code",
   "execution_count": 6,
   "metadata": {},
   "outputs": [
    {
     "data": {
      "text/plain": [
       "[('b', 'a'), ('c', 'a'), ('c', 'b')]"
      ]
     },
     "execution_count": 6,
     "metadata": {},
     "output_type": "execute_result"
    }
   ],
   "source": [
    "def pairs[T](els: list[T]):\n",
    "    for i in range(len(els)):\n",
    "        for j in range(i):\n",
    "            yield (els[i], els[j])\n",
    "\n",
    "list(pairs('abc'))\n"
   ]
  },
  {
   "cell_type": "markdown",
   "metadata": {},
   "source": [
    "# Part 1"
   ]
  },
  {
   "cell_type": "code",
   "execution_count": 31,
   "metadata": {},
   "outputs": [
    {
     "data": {
      "text/plain": [
       "269"
      ]
     },
     "execution_count": 31,
     "metadata": {},
     "output_type": "execute_result"
    }
   ],
   "source": [
    "def get_antinodes(rels: list[int]):\n",
    "    antinodes = set()\n",
    "    for nodes in coords.values():\n",
    "        for (x0, y0), (x1, y1) in pairs(nodes):\n",
    "            dx, dy = x1 - x0, y1 - y0\n",
    "            for r in rels:\n",
    "                x, y = x0 + r*dx, y0 + r*dy\n",
    "                if 0 <= x < len(grid) and 0 <= y < len(grid):\n",
    "                    antinodes.add((x, y))\n",
    "    return antinodes\n",
    "\n",
    "len(get_antinodes([-1, 2]))"
   ]
  },
  {
   "cell_type": "markdown",
   "metadata": {},
   "source": [
    "# Part 2"
   ]
  },
  {
   "cell_type": "code",
   "execution_count": 29,
   "metadata": {},
   "outputs": [
    {
     "data": {
      "text/plain": [
       "949"
      ]
     },
     "execution_count": 29,
     "metadata": {},
     "output_type": "execute_result"
    }
   ],
   "source": [
    "W = len(grid)\n",
    "len(get_antinodes(range(-W, W)))"
   ]
  }
 ],
 "metadata": {
  "kernelspec": {
   "display_name": "Python 3",
   "language": "python",
   "name": "python3"
  },
  "language_info": {
   "codemirror_mode": {
    "name": "ipython",
    "version": 3
   },
   "file_extension": ".py",
   "mimetype": "text/x-python",
   "name": "python",
   "nbconvert_exporter": "python",
   "pygments_lexer": "ipython3",
   "version": "3.12.7"
  }
 },
 "nbformat": 4,
 "nbformat_minor": 2
}
