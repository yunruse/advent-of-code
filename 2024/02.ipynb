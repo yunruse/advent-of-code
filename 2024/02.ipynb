{
 "cells": [
  {
   "cell_type": "code",
   "execution_count": 1,
   "metadata": {},
   "outputs": [
    {
     "data": {
      "text/plain": [
       "[[67, 69, 70, 71, 72, 75, 74],\n",
       " [20, 21, 24, 26, 28, 28],\n",
       " [43, 45, 48, 50, 53, 57]]"
      ]
     },
     "execution_count": 1,
     "metadata": {},
     "output_type": "execute_result"
    }
   ],
   "source": [
    "series = []\n",
    "with open('02.txt') as f:\n",
    "    for line in f.readlines():\n",
    "        series.append(list(map(int, line.split())))\n",
    "\n",
    "series[:3]"
   ]
  },
  {
   "cell_type": "markdown",
   "metadata": {},
   "source": [
    "# Part 1: Simple safety check"
   ]
  },
  {
   "cell_type": "code",
   "execution_count": null,
   "metadata": {},
   "outputs": [
    {
     "data": {
      "text/plain": [
       "242"
      ]
     },
     "execution_count": 4,
     "metadata": {},
     "output_type": "execute_result"
    }
   ],
   "source": [
    "def is_safe(seq: list[int]):\n",
    "    x0, *rest = seq\n",
    "    d0 = 0\n",
    "    for x1 in rest:\n",
    "        d1 = x1 - x0\n",
    "        if d1 == 0 or abs(d1) > 3 or d0 * d1 < 0:\n",
    "            return False\n",
    "        d0 = d1\n",
    "        x0 = x1\n",
    "    return True\n",
    "\n",
    "sum(map(is_safe, series))"
   ]
  },
  {
   "cell_type": "markdown",
   "metadata": {},
   "source": [
    "# Part 2: Piecewise safety check"
   ]
  },
  {
   "cell_type": "code",
   "execution_count": null,
   "metadata": {},
   "outputs": [
    {
     "data": {
      "text/plain": [
       "[[1, 2, 3], [0, 2, 3], [0, 1, 3], [0, 1, 2]]"
      ]
     },
     "execution_count": 9,
     "metadata": {},
     "output_type": "execute_result"
    }
   ],
   "source": [
    "def subsequences(sequence: list[int]):\n",
    "    pass\n",
    "\n",
    "list(subsequences(list(range(4))))"
   ]
  },
  {
   "cell_type": "code",
   "execution_count": 10,
   "metadata": {},
   "outputs": [
    {
     "data": {
      "text/plain": [
       "311"
      ]
     },
     "execution_count": 10,
     "metadata": {},
     "output_type": "execute_result"
    }
   ],
   "source": [
    "def is_damp_safe(seq: list[int]):\n",
    "    if is_safe(seq):\n",
    "        return True\n",
    "    return any(map(is_safe, subsequences(seq)))\n",
    "\n",
    "sum(map(is_damp_safe, series))\n"
   ]
  }
 ],
 "metadata": {
  "kernelspec": {
   "display_name": "Python 3",
   "language": "python",
   "name": "python3"
  },
  "language_info": {
   "codemirror_mode": {
    "name": "ipython",
    "version": 3
   },
   "file_extension": ".py",
   "mimetype": "text/x-python",
   "name": "python",
   "nbconvert_exporter": "python",
   "pygments_lexer": "ipython3",
   "version": "3.12.7"
  }
 },
 "nbformat": 4,
 "nbformat_minor": 2
}
