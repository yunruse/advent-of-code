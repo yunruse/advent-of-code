{
 "cells": [
  {
   "cell_type": "code",
   "execution_count": 8,
   "metadata": {},
   "outputs": [],
   "source": [
    "with open('21.txt') as f:\n",
    "    codes = f.read().splitlines()\n",
    "\n",
    "KEYPAD = tuple('''\n",
    "789\n",
    "456\n",
    "123\n",
    ".0A\n",
    "'''.strip().splitlines())\n",
    "\n",
    "ARROWS = tuple('''\n",
    ".^A\n",
    "<v>\n",
    "'''.strip().splitlines())"
   ]
  },
  {
   "cell_type": "markdown",
   "metadata": {},
   "source": [
    "# Part 1: Arrow decipherment"
   ]
  },
  {
   "cell_type": "code",
   "execution_count": 41,
   "metadata": {},
   "outputs": [],
   "source": [
    "from functools import cache\n",
    "from queue import Queue\n",
    "\n",
    "@cache\n",
    "def find(lines: tuple[str], match_char: str):\n",
    "    for y, line in enumerate(lines):\n",
    "        for x, char in enumerate(line):\n",
    "            if char == match_char:\n",
    "                return (x, y)\n",
    "\n",
    "Coord = tuple[int, int, str]\n",
    "\n",
    "def get_directions(x, y, ex, ey):\n",
    "    if x < ex: yield '>'\n",
    "    if x > ex: yield '<'\n",
    "    if y < ey: yield 'v'\n",
    "    if y > ey: yield '^'\n",
    "\n",
    "def dijkstra(grid: tuple[str], start: str, end: str, N: int):\n",
    "    start, end = find(grid, start), find(grid, end)\n",
    "\n",
    "    start = (*start, 'A')\n",
    "\n",
    "    UNSEEN_COST = 1e12\n",
    "    frontier = Queue[Coord]()\n",
    "    frontier.put(start)\n",
    "\n",
    "    costs: dict[Coord, int] = {}\n",
    "    costs[start] = 0\n",
    "    prevs: dict[Coord, Coord] = {}\n",
    "    prevs[start] = None\n",
    "\n",
    "    while not frontier.empty():\n",
    "        x, y, d0 = frontier.get()\n",
    "        if (x, y) == end:\n",
    "            break\n",
    "        for d in get_directions(x, y, *end):\n",
    "            sx, sy = x, y\n",
    "            match d:\n",
    "                case '<': sx -= 1\n",
    "                case '>': sx += 1\n",
    "                case '^': sy -= 1\n",
    "                case 'v': sy += 1\n",
    "\n",
    "            move_cost = 1\n",
    "            if N > 0:\n",
    "                move_cost = d_cost(ARROWS, d0, d, N-1)\n",
    "                if (sx, sy) == end:\n",
    "                    move_cost += d_cost(ARROWS, d, 'A', N-1)\n",
    "\n",
    "            cost = costs[x, y, d0] + move_cost\n",
    "            costs[sx, sy, d] = cost\n",
    "            prevs[sx, sy, d] = (x, y, d0)\n",
    "            frontier.put((sx, sy, d))\n",
    "\n",
    "    return costs, prevs\n",
    "\n",
    "@cache\n",
    "def d_cost(grid: tuple[str], start: str, end: str, N: int):\n",
    "    costs, _ = dijkstra(grid, start, end, N)\n",
    "    end = find(grid, end)\n",
    "    for d in '<>^v':\n",
    "        if (*end, d) in costs:\n",
    "            return costs[*end, d]\n",
    "    "
   ]
  },
  {
   "cell_type": "code",
   "execution_count": 47,
   "metadata": {},
   "outputs": [
    {
     "ename": "TypeError",
     "evalue": "unsupported operand type(s) for +: 'int' and 'NoneType'",
     "output_type": "error",
     "traceback": [
      "\u001b[0;31m---------------------------------------------------------------------------\u001b[0m",
      "\u001b[0;31mTypeError\u001b[0m                                 Traceback (most recent call last)",
      "Cell \u001b[0;32mIn[47], line 1\u001b[0m\n\u001b[0;32m----> 1\u001b[0m \u001b[43mdijkstra\u001b[49m\u001b[43m(\u001b[49m\u001b[43mKEYPAD\u001b[49m\u001b[43m,\u001b[49m\u001b[43m \u001b[49m\u001b[38;5;124;43m'\u001b[39;49m\u001b[38;5;124;43m0\u001b[39;49m\u001b[38;5;124;43m'\u001b[39;49m\u001b[43m,\u001b[49m\u001b[43m \u001b[49m\u001b[38;5;124;43m'\u001b[39;49m\u001b[38;5;124;43m3\u001b[39;49m\u001b[38;5;124;43m'\u001b[39;49m\u001b[43m,\u001b[49m\u001b[43m \u001b[49m\u001b[38;5;241;43m3\u001b[39;49m\u001b[43m)\u001b[49m\n",
      "Cell \u001b[0;32mIn[41], line 47\u001b[0m, in \u001b[0;36mdijkstra\u001b[0;34m(grid, start, end, N)\u001b[0m\n\u001b[1;32m     45\u001b[0m move_cost \u001b[38;5;241m=\u001b[39m \u001b[38;5;241m1\u001b[39m\n\u001b[1;32m     46\u001b[0m \u001b[38;5;28;01mif\u001b[39;00m N \u001b[38;5;241m>\u001b[39m \u001b[38;5;241m0\u001b[39m:\n\u001b[0;32m---> 47\u001b[0m     move_cost \u001b[38;5;241m=\u001b[39m \u001b[43md_cost\u001b[49m\u001b[43m(\u001b[49m\u001b[43mARROWS\u001b[49m\u001b[43m,\u001b[49m\u001b[43m \u001b[49m\u001b[43md0\u001b[49m\u001b[43m,\u001b[49m\u001b[43m \u001b[49m\u001b[43md\u001b[49m\u001b[43m,\u001b[49m\u001b[43m \u001b[49m\u001b[43mN\u001b[49m\u001b[38;5;241;43m-\u001b[39;49m\u001b[38;5;241;43m1\u001b[39;49m\u001b[43m)\u001b[49m\n\u001b[1;32m     48\u001b[0m     \u001b[38;5;28;01mif\u001b[39;00m (sx, sy) \u001b[38;5;241m==\u001b[39m end:\n\u001b[1;32m     49\u001b[0m         move_cost \u001b[38;5;241m+\u001b[39m\u001b[38;5;241m=\u001b[39m d_cost(ARROWS, d, \u001b[38;5;124m'\u001b[39m\u001b[38;5;124mA\u001b[39m\u001b[38;5;124m'\u001b[39m, N\u001b[38;5;241m-\u001b[39m\u001b[38;5;241m1\u001b[39m)\n",
      "Cell \u001b[0;32mIn[41], line 60\u001b[0m, in \u001b[0;36md_cost\u001b[0;34m(grid, start, end, N)\u001b[0m\n\u001b[1;32m     58\u001b[0m \u001b[38;5;129m@cache\u001b[39m\n\u001b[1;32m     59\u001b[0m \u001b[38;5;28;01mdef\u001b[39;00m \u001b[38;5;21md_cost\u001b[39m(grid: \u001b[38;5;28mtuple\u001b[39m[\u001b[38;5;28mstr\u001b[39m], start: \u001b[38;5;28mstr\u001b[39m, end: \u001b[38;5;28mstr\u001b[39m, N: \u001b[38;5;28mint\u001b[39m):\n\u001b[0;32m---> 60\u001b[0m     costs, _ \u001b[38;5;241m=\u001b[39m \u001b[43mdijkstra\u001b[49m\u001b[43m(\u001b[49m\u001b[43mgrid\u001b[49m\u001b[43m,\u001b[49m\u001b[43m \u001b[49m\u001b[43mstart\u001b[49m\u001b[43m,\u001b[49m\u001b[43m \u001b[49m\u001b[43mend\u001b[49m\u001b[43m,\u001b[49m\u001b[43m \u001b[49m\u001b[43mN\u001b[49m\u001b[43m)\u001b[49m\n\u001b[1;32m     61\u001b[0m     end \u001b[38;5;241m=\u001b[39m find(grid, end)\n\u001b[1;32m     62\u001b[0m     \u001b[38;5;28;01mfor\u001b[39;00m d \u001b[38;5;129;01min\u001b[39;00m \u001b[38;5;124m'\u001b[39m\u001b[38;5;124m<>^v\u001b[39m\u001b[38;5;124m'\u001b[39m:\n",
      "Cell \u001b[0;32mIn[41], line 47\u001b[0m, in \u001b[0;36mdijkstra\u001b[0;34m(grid, start, end, N)\u001b[0m\n\u001b[1;32m     45\u001b[0m move_cost \u001b[38;5;241m=\u001b[39m \u001b[38;5;241m1\u001b[39m\n\u001b[1;32m     46\u001b[0m \u001b[38;5;28;01mif\u001b[39;00m N \u001b[38;5;241m>\u001b[39m \u001b[38;5;241m0\u001b[39m:\n\u001b[0;32m---> 47\u001b[0m     move_cost \u001b[38;5;241m=\u001b[39m \u001b[43md_cost\u001b[49m\u001b[43m(\u001b[49m\u001b[43mARROWS\u001b[49m\u001b[43m,\u001b[49m\u001b[43m \u001b[49m\u001b[43md0\u001b[49m\u001b[43m,\u001b[49m\u001b[43m \u001b[49m\u001b[43md\u001b[49m\u001b[43m,\u001b[49m\u001b[43m \u001b[49m\u001b[43mN\u001b[49m\u001b[38;5;241;43m-\u001b[39;49m\u001b[38;5;241;43m1\u001b[39;49m\u001b[43m)\u001b[49m\n\u001b[1;32m     48\u001b[0m     \u001b[38;5;28;01mif\u001b[39;00m (sx, sy) \u001b[38;5;241m==\u001b[39m end:\n\u001b[1;32m     49\u001b[0m         move_cost \u001b[38;5;241m+\u001b[39m\u001b[38;5;241m=\u001b[39m d_cost(ARROWS, d, \u001b[38;5;124m'\u001b[39m\u001b[38;5;124mA\u001b[39m\u001b[38;5;124m'\u001b[39m, N\u001b[38;5;241m-\u001b[39m\u001b[38;5;241m1\u001b[39m)\n",
      "Cell \u001b[0;32mIn[41], line 60\u001b[0m, in \u001b[0;36md_cost\u001b[0;34m(grid, start, end, N)\u001b[0m\n\u001b[1;32m     58\u001b[0m \u001b[38;5;129m@cache\u001b[39m\n\u001b[1;32m     59\u001b[0m \u001b[38;5;28;01mdef\u001b[39;00m \u001b[38;5;21md_cost\u001b[39m(grid: \u001b[38;5;28mtuple\u001b[39m[\u001b[38;5;28mstr\u001b[39m], start: \u001b[38;5;28mstr\u001b[39m, end: \u001b[38;5;28mstr\u001b[39m, N: \u001b[38;5;28mint\u001b[39m):\n\u001b[0;32m---> 60\u001b[0m     costs, _ \u001b[38;5;241m=\u001b[39m \u001b[43mdijkstra\u001b[49m\u001b[43m(\u001b[49m\u001b[43mgrid\u001b[49m\u001b[43m,\u001b[49m\u001b[43m \u001b[49m\u001b[43mstart\u001b[49m\u001b[43m,\u001b[49m\u001b[43m \u001b[49m\u001b[43mend\u001b[49m\u001b[43m,\u001b[49m\u001b[43m \u001b[49m\u001b[43mN\u001b[49m\u001b[43m)\u001b[49m\n\u001b[1;32m     61\u001b[0m     end \u001b[38;5;241m=\u001b[39m find(grid, end)\n\u001b[1;32m     62\u001b[0m     \u001b[38;5;28;01mfor\u001b[39;00m d \u001b[38;5;129;01min\u001b[39;00m \u001b[38;5;124m'\u001b[39m\u001b[38;5;124m<>^v\u001b[39m\u001b[38;5;124m'\u001b[39m:\n",
      "Cell \u001b[0;32mIn[41], line 51\u001b[0m, in \u001b[0;36mdijkstra\u001b[0;34m(grid, start, end, N)\u001b[0m\n\u001b[1;32m     48\u001b[0m     \u001b[38;5;28;01mif\u001b[39;00m (sx, sy) \u001b[38;5;241m==\u001b[39m end:\n\u001b[1;32m     49\u001b[0m         move_cost \u001b[38;5;241m+\u001b[39m\u001b[38;5;241m=\u001b[39m d_cost(ARROWS, d, \u001b[38;5;124m'\u001b[39m\u001b[38;5;124mA\u001b[39m\u001b[38;5;124m'\u001b[39m, N\u001b[38;5;241m-\u001b[39m\u001b[38;5;241m1\u001b[39m)\n\u001b[0;32m---> 51\u001b[0m cost \u001b[38;5;241m=\u001b[39m \u001b[43mcosts\u001b[49m\u001b[43m[\u001b[49m\u001b[43mx\u001b[49m\u001b[43m,\u001b[49m\u001b[43m \u001b[49m\u001b[43my\u001b[49m\u001b[43m,\u001b[49m\u001b[43m \u001b[49m\u001b[43md0\u001b[49m\u001b[43m]\u001b[49m\u001b[43m \u001b[49m\u001b[38;5;241;43m+\u001b[39;49m\u001b[43m \u001b[49m\u001b[43mmove_cost\u001b[49m\n\u001b[1;32m     52\u001b[0m costs[sx, sy, d] \u001b[38;5;241m=\u001b[39m cost\n\u001b[1;32m     53\u001b[0m prevs[sx, sy, d] \u001b[38;5;241m=\u001b[39m (x, y, d0)\n",
      "\u001b[0;31mTypeError\u001b[0m: unsupported operand type(s) for +: 'int' and 'NoneType'"
     ]
    }
   ],
   "source": [
    "dijkstra(KEYPAD, '0', '3', 3)"
   ]
  },
  {
   "cell_type": "code",
   "execution_count": 7,
   "metadata": {},
   "outputs": [
    {
     "name": "stdout",
     "output_type": "stream",
     "text": [
      "029A: (68) <<vAA>A^>A<Av>AA^A<<vA^>>AvA^A<<vA^>>AA<vA>A^A<A>A<<vA>A^>AAA<Av>A^A\n",
      "980A: (60) <<vA^>>AAAvA^A<<vAA>A^>A<Av>AA^A<<vA>A^>AAA<Av>A^A<vA^>A<A>A\n",
      "179A: (64) <<vAA>A^>AA<Av>A^AvA^A<<vA^>>AAvA^A<vA^>AA<A>A<<vA>A^>AAA<Av>A^A\n",
      "456A: (60) <<vAA>A^>AA<Av>A^AAvA^A<vA^>A<A>A<vA^>A<A>A<<vA>A^>AA<Av>A^A\n",
      "379A: (64) <<vA^>>AvA^A<<vAA>A^>AA<Av>A^AAvA^A<vA^>AA<A>A<<vA>A^>AAA<Av>A^A\n"
     ]
    },
    {
     "data": {
      "text/plain": [
       "-2540"
      ]
     },
     "execution_count": 7,
     "metadata": {},
     "output_type": "execute_result"
    }
   ],
   "source": [
    "def find(lines: list[str], match_char: str):\n",
    "    for y, line in enumerate(lines):\n",
    "        for x, char in enumerate(line):\n",
    "            if char == match_char:\n",
    "                return (x, y)\n",
    "\n",
    "def encode(grid: list[str], code: str):\n",
    "    x, y = find(grid, 'A')\n",
    "    ax, ay = find(grid, '.')\n",
    "    for char in code:\n",
    "        sx, sy = find(grid, char)\n",
    "        dx, dy = sx-x, sy-y\n",
    "        vert = ('v' if dy > 0 else '^') * abs(dy)\n",
    "        hori = ('>' if dx > 0 else '<') * abs(dx)\n",
    "        if dx > 0:\n",
    "            yield from vert\n",
    "            yield from hori\n",
    "        else:\n",
    "            yield from hori\n",
    "            yield from vert\n",
    "        yield 'A'\n",
    "        x, y = sx, sy\n",
    "\n",
    "def decode(grid: list[str], code: str):\n",
    "    x, y = find(grid, 'A')\n",
    "    for char in code:\n",
    "        match char:\n",
    "            case '^': y -= 1\n",
    "            case 'v': y += 1\n",
    "            case '<': x -= 1\n",
    "            case '>': x += 1\n",
    "            case 'A': yield grid[y][x]\n",
    "\n",
    "score = 0\n",
    "for c0 in codes:\n",
    "    c3 = ''.join(\n",
    "        encode(ARROWS, encode(ARROWS, encode(KEYPAD, c0))))\n",
    "    assert c0 == ''.join(\n",
    "        decode(KEYPAD, decode(ARROWS, decode(ARROWS, c3)))\n",
    "    )\n",
    "    score += len(c3) * int(c0[:-1])\n",
    "    print(f'{c0}: ({len(c3):>2}) {c3}')\n",
    "score - 126384"
   ]
  },
  {
   "cell_type": "markdown",
   "metadata": {},
   "source": []
  },
  {
   "cell_type": "markdown",
   "metadata": {},
   "source": [
    "# Scratchpad"
   ]
  },
  {
   "cell_type": "markdown",
   "metadata": {},
   "source": [
    "The order of arrows seems like it wouldn't matter, but after two generations it does:"
   ]
  },
  {
   "cell_type": "code",
   "execution_count": 3,
   "metadata": {},
   "outputs": [
    {
     "name": "stdout",
     "output_type": "stream",
     "text": [
      "<^A 21\n",
      "^<A 25\n",
      "\n",
      "<vA 21\n",
      "v<A 25\n",
      "\n",
      ">^A 19\n",
      "^>A 19\n",
      "\n",
      ">vA 21\n",
      "v>A 17\n",
      "\n"
     ]
    }
   ],
   "source": [
    "for segment in ('<^', '<v', '>^', '>v'):\n",
    "    for c0 in segment+'A', segment[::-1]+'A':\n",
    "        (c1 := ''.join(encode(ARROWS, c0)))\n",
    "        (c2 := ''.join(encode(ARROWS, c1)))\n",
    "        print(c0, len(c2))\n",
    "    print()"
   ]
  },
  {
   "cell_type": "markdown",
   "metadata": {},
   "source": [
    "The most efficient path is to go horizontal first – unless `dx>0` and `dy>0`."
   ]
  }
 ],
 "metadata": {
  "kernelspec": {
   "display_name": "Python 3",
   "language": "python",
   "name": "python3"
  },
  "language_info": {
   "codemirror_mode": {
    "name": "ipython",
    "version": 3
   },
   "file_extension": ".py",
   "mimetype": "text/x-python",
   "name": "python",
   "nbconvert_exporter": "python",
   "pygments_lexer": "ipython3",
   "version": "3.12.7"
  }
 },
 "nbformat": 4,
 "nbformat_minor": 2
}
