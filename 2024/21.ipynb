{
 "cells": [
  {
   "cell_type": "code",
   "execution_count": 1,
   "metadata": {},
   "outputs": [],
   "source": [
    "with open('21.txt') as f:\n",
    "    codes = f.read().splitlines()\n",
    "\n",
    "KEYPAD = '''\n",
    "789\n",
    "456\n",
    "123\n",
    ".0A\n",
    "'''.strip().splitlines()\n",
    "\n",
    "ARROWS = '''\n",
    ".^A\n",
    "<v>\n",
    "'''.strip().splitlines()"
   ]
  },
  {
   "cell_type": "markdown",
   "metadata": {},
   "source": [
    "# Part 1: Arrow decipherment"
   ]
  },
  {
   "cell_type": "code",
   "execution_count": 7,
   "metadata": {},
   "outputs": [
    {
     "name": "stdout",
     "output_type": "stream",
     "text": [
      "029A: (68) <<vAA>A^>A<Av>AA^A<<vA^>>AvA^A<<vA^>>AA<vA>A^A<A>A<<vA>A^>AAA<Av>A^A\n",
      "980A: (60) <<vA^>>AAAvA^A<<vAA>A^>A<Av>AA^A<<vA>A^>AAA<Av>A^A<vA^>A<A>A\n",
      "179A: (64) <<vAA>A^>AA<Av>A^AvA^A<<vA^>>AAvA^A<vA^>AA<A>A<<vA>A^>AAA<Av>A^A\n",
      "456A: (60) <<vAA>A^>AA<Av>A^AAvA^A<vA^>A<A>A<vA^>A<A>A<<vA>A^>AA<Av>A^A\n",
      "379A: (64) <<vA^>>AvA^A<<vAA>A^>AA<Av>A^AAvA^A<vA^>AA<A>A<<vA>A^>AAA<Av>A^A\n"
     ]
    },
    {
     "data": {
      "text/plain": [
       "-2540"
      ]
     },
     "execution_count": 7,
     "metadata": {},
     "output_type": "execute_result"
    }
   ],
   "source": [
    "def find(lines: list[str], match_char: str):\n",
    "    for y, line in enumerate(lines):\n",
    "        for x, char in enumerate(line):\n",
    "            if char == match_char:\n",
    "                return (x, y)\n",
    "\n",
    "def encode(grid: list[str], code: str):\n",
    "    x, y = find(grid, 'A')\n",
    "    ax, ay = find(grid, '.')\n",
    "    for char in code:\n",
    "        sx, sy = find(grid, char)\n",
    "        dx, dy = sx-x, sy-y\n",
    "        vert = ('v' if dy > 0 else '^') * abs(dy)\n",
    "        hori = ('>' if dx > 0 else '<') * abs(dx)\n",
    "        if dx > 0:\n",
    "            yield from vert\n",
    "            yield from hori\n",
    "        else:\n",
    "            yield from hori\n",
    "            yield from vert\n",
    "        yield 'A'\n",
    "        x, y = sx, sy\n",
    "\n",
    "def decode(grid: list[str], code: str):\n",
    "    x, y = find(grid, 'A')\n",
    "    for char in code:\n",
    "        match char:\n",
    "            case '^': y -= 1\n",
    "            case 'v': y += 1\n",
    "            case '<': x -= 1\n",
    "            case '>': x += 1\n",
    "            case 'A': yield grid[y][x]\n",
    "\n",
    "score = 0\n",
    "for c0 in codes:\n",
    "    c3 = ''.join(\n",
    "        encode(ARROWS, encode(ARROWS, encode(KEYPAD, c0))))\n",
    "    assert c0 == ''.join(\n",
    "        decode(KEYPAD, decode(ARROWS, decode(ARROWS, c3)))\n",
    "    )\n",
    "    score += len(c3) * int(c0[:-1])\n",
    "    print(f'{c0}: ({len(c3):>2}) {c3}')\n",
    "score - 126384"
   ]
  },
  {
   "cell_type": "markdown",
   "metadata": {},
   "source": []
  },
  {
   "cell_type": "markdown",
   "metadata": {},
   "source": [
    "# Scratchpad"
   ]
  },
  {
   "cell_type": "markdown",
   "metadata": {},
   "source": [
    "The order of arrows seems like it wouldn't matter, but after two generations it does:"
   ]
  },
  {
   "cell_type": "code",
   "execution_count": 3,
   "metadata": {},
   "outputs": [
    {
     "name": "stdout",
     "output_type": "stream",
     "text": [
      "<^A 21\n",
      "^<A 25\n",
      "\n",
      "<vA 21\n",
      "v<A 25\n",
      "\n",
      ">^A 19\n",
      "^>A 19\n",
      "\n",
      ">vA 21\n",
      "v>A 17\n",
      "\n"
     ]
    }
   ],
   "source": [
    "for segment in ('<^', '<v', '>^', '>v'):\n",
    "    for c0 in segment+'A', segment[::-1]+'A':\n",
    "        (c1 := ''.join(encode(ARROWS, c0)))\n",
    "        (c2 := ''.join(encode(ARROWS, c1)))\n",
    "        print(c0, len(c2))\n",
    "    print()"
   ]
  },
  {
   "cell_type": "markdown",
   "metadata": {},
   "source": [
    "The most efficient path is to go horizontal first – unless `dx>0` and `dy>0`."
   ]
  }
 ],
 "metadata": {
  "kernelspec": {
   "display_name": "Python 3",
   "language": "python",
   "name": "python3"
  },
  "language_info": {
   "codemirror_mode": {
    "name": "ipython",
    "version": 3
   },
   "file_extension": ".py",
   "mimetype": "text/x-python",
   "name": "python",
   "nbconvert_exporter": "python",
   "pygments_lexer": "ipython3",
   "version": "3.12.7"
  }
 },
 "nbformat": 4,
 "nbformat_minor": 2
}
