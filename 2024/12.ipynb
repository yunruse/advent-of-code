{
 "cells": [
  {
   "cell_type": "code",
   "execution_count": 37,
   "metadata": {},
   "outputs": [],
   "source": [
    "with open('12.txt') as f:\n",
    "    grid = [line.strip() for line in f.readlines()]"
   ]
  },
  {
   "cell_type": "code",
   "execution_count": 38,
   "metadata": {},
   "outputs": [],
   "source": [
    "seen: set[tuple[int, int]] = set()\n",
    "\n",
    "DIRECTIONS = [\n",
    "    (-1, 0),\n",
    "    (+1, 0),\n",
    "    (0, -1),\n",
    "    (0, +1),\n",
    "]\n",
    "def scan_region(x: int, y: int, char: str):\n",
    "    if (x, y) in seen:\n",
    "        return\n",
    "    if not 0 <= y < len(grid):\n",
    "        return\n",
    "    if not 0 <= x < len(grid[y]):\n",
    "        return\n",
    "    if grid[y][x] != char:\n",
    "        return\n",
    "    yield x, y\n",
    "    seen.add((x, y))\n",
    "    for dx, dy in DIRECTIONS:\n",
    "        yield from scan_region(x+dx, y+dy, char)\n",
    "\n",
    "\n",
    "regions = [\n",
    "    list(scan_region(x, y, char))\n",
    "    for y, line in enumerate(grid)\n",
    "    for x, char in enumerate(line)\n",
    "    if not (x, y) in seen\n",
    "]\n",
    "\n",
    "Coord = tuple[int, int]"
   ]
  },
  {
   "cell_type": "markdown",
   "metadata": {},
   "source": [
    "# Part 1"
   ]
  },
  {
   "cell_type": "code",
   "execution_count": 39,
   "metadata": {},
   "outputs": [
    {
     "data": {
      "text/plain": [
       "1449902"
      ]
     },
     "execution_count": 39,
     "metadata": {},
     "output_type": "execute_result"
    }
   ],
   "source": [
    "def perimeter(coords: list[Coord]):\n",
    "    perim = 0\n",
    "    for x, y in coords:\n",
    "        for dx, dy in DIRECTIONS:\n",
    "            if (x+dx, y+dy) not in coords:\n",
    "                perim += 1\n",
    "    return perim\n",
    "\n",
    "sum(len(region) * perimeter(region) for region in regions)"
   ]
  },
  {
   "cell_type": "markdown",
   "metadata": {},
   "source": [
    "# Part 2"
   ]
  },
  {
   "cell_type": "code",
   "execution_count": 41,
   "metadata": {},
   "outputs": [
    {
     "data": {
      "text/plain": [
       "908042"
      ]
     },
     "execution_count": 41,
     "metadata": {},
     "output_type": "execute_result"
    }
   ],
   "source": [
    "DIAGONALS = [\n",
    "    (-1, -1),\n",
    "    (+1, +1),\n",
    "    (-1, +1),\n",
    "    (+1, -1),\n",
    "]\n",
    "\n",
    "# Counting sides == counting corners!\n",
    "# Counting corners is a lot easier it turns out:\n",
    "\n",
    "# Let's consider all corner possibilities\n",
    "# where `?` is x,y\n",
    "#   and `c` is x+dx, y+dy:\n",
    "#     0   1   2   3   4   5   6   7\n",
    "# ac  ..  ..  X.  X.  .X  .X  XX  XX\n",
    "# ?b  X.  XX  X.  XX  X.  XX  X.  XX\n",
    "# Consider each case in turn:\n",
    "# 0: External corner\n",
    "# 1: Line\n",
    "# 2: Line\n",
    "# 3: Internal corner\n",
    "# 4: External corner\n",
    "# 5: Not our corner to worry about\n",
    "# 6: Not our corner to worry about\n",
    "# 7: Huh? We're inside the block!\n",
    "\n",
    "# In other words, it's a corner iff\n",
    "# (not a and not b) or (a and b and not c)\n",
    "# (aka external and internal)\n",
    "\n",
    "def corners(coords: list[Coord]):\n",
    "    N = 0\n",
    "    for x, y in coords:\n",
    "        for dx, dy in DIAGONALS:\n",
    "            a = (x+dx, y) in coords\n",
    "            b = (x, y+dy) in coords\n",
    "            c = (x+dx, y+dy) in coords\n",
    "            N += (not a and not b) or (a and b and not c)\n",
    "    return N\n",
    "\n",
    "sum(len(region) * corners(region) for region in regions)"
   ]
  }
 ],
 "metadata": {
  "kernelspec": {
   "display_name": "Python 3",
   "language": "python",
   "name": "python3"
  },
  "language_info": {
   "codemirror_mode": {
    "name": "ipython",
    "version": 3
   },
   "file_extension": ".py",
   "mimetype": "text/x-python",
   "name": "python",
   "nbconvert_exporter": "python",
   "pygments_lexer": "ipython3",
   "version": "3.12.7"
  }
 },
 "nbformat": 4,
 "nbformat_minor": 2
}
