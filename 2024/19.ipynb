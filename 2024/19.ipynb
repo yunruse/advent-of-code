{
 "cells": [
  {
   "cell_type": "code",
   "execution_count": 1,
   "metadata": {},
   "outputs": [],
   "source": [
    "with open('19.txt') as f:\n",
    "    SUBSTRINGS, STRINGS = f.read().split('\\n\\n')\n",
    "    SUBSTRINGS = SUBSTRINGS.split(', ')\n",
    "    STRINGS = STRINGS.split('\\n')"
   ]
  },
  {
   "cell_type": "markdown",
   "metadata": {},
   "source": [
    "# Part 1: Substring matching"
   ]
  },
  {
   "cell_type": "code",
   "execution_count": 2,
   "metadata": {},
   "outputs": [
    {
     "data": {
      "text/plain": [
       "247"
      ]
     },
     "execution_count": 2,
     "metadata": {},
     "output_type": "execute_result"
    }
   ],
   "source": [
    "def matches(string: str, substrings: list[str]):\n",
    "    if string == '':\n",
    "        yield True\n",
    "    for s in substrings:\n",
    "        if string.startswith(s):\n",
    "            yield from matches(string.removeprefix(s), substrings)\n",
    "\n",
    "sum(any(matches(s, SUBSTRINGS)) for s in STRINGS)"
   ]
  }
 ],
 "metadata": {
  "kernelspec": {
   "display_name": "Python 3",
   "language": "python",
   "name": "python3"
  },
  "language_info": {
   "codemirror_mode": {
    "name": "ipython",
    "version": 3
   },
   "file_extension": ".py",
   "mimetype": "text/x-python",
   "name": "python",
   "nbconvert_exporter": "python",
   "pygments_lexer": "ipython3",
   "version": "3.12.7"
  }
 },
 "nbformat": 4,
 "nbformat_minor": 2
}
