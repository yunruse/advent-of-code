{
 "cells": [
  {
   "cell_type": "code",
   "execution_count": 26,
   "metadata": {},
   "outputs": [
    {
     "data": {
      "text/plain": [
       "(447, 400)"
      ]
     },
     "execution_count": 26,
     "metadata": {},
     "output_type": "execute_result"
    }
   ],
   "source": [
    "with open('19.txt') as f:\n",
    "    SUBSTRINGS, STRINGS = f.read().split('\\n\\n')\n",
    "    SUBSTRINGS = SUBSTRINGS.split(', ')\n",
    "    STRINGS = STRINGS.split('\\n')\n",
    "\n",
    "len(SUBSTRINGS), len(STRINGS)"
   ]
  },
  {
   "cell_type": "markdown",
   "metadata": {},
   "source": [
    "# Part 1: Substring matching"
   ]
  },
  {
   "cell_type": "code",
   "execution_count": 36,
   "metadata": {},
   "outputs": [
    {
     "data": {
      "text/plain": [
       "247"
      ]
     },
     "execution_count": 36,
     "metadata": {},
     "output_type": "execute_result"
    }
   ],
   "source": [
    "def m2(string: str):\n",
    "    if string == '':\n",
    "        yield True\n",
    "    for s in SUBSTRINGS:\n",
    "        if string.startswith(s):\n",
    "            yield from m2(string.removeprefix(s))\n",
    "\n",
    "sum(any(m2(s)) for s in STRINGS)"
   ]
  },
  {
   "cell_type": "markdown",
   "metadata": {},
   "source": [
    "# Part 2: Decomposing the substrings"
   ]
  },
  {
   "cell_type": "markdown",
   "metadata": {},
   "source": [
    "## Attempt 1: Analysis time"
   ]
  },
  {
   "cell_type": "markdown",
   "metadata": {},
   "source": [
    "It stands to reason we could just swap out the `any` for `sum`, but with 447 substrings, there is a _lot_ of overlap possible. Let's be a little smart."
   ]
  },
  {
   "cell_type": "markdown",
   "metadata": {},
   "source": [
    "If a substring can be decomposed in 0 ways, it's a \"prime substring\". But what about composite substrings? Let's decompose each substring into _other_ substrings and check to see how many ways each substring can be decomposed:"
   ]
  },
  {
   "cell_type": "code",
   "execution_count": 8,
   "metadata": {},
   "outputs": [
    {
     "data": {
      "text/plain": [
       "Counter({0: 245, 1: 202})"
      ]
     },
     "execution_count": 8,
     "metadata": {},
     "output_type": "execute_result"
    }
   ],
   "source": [
    "from collections import Counter\n",
    "\n",
    "def without[T](seq: list[T], exclude: T):\n",
    "    for x in seq:\n",
    "        if x != exclude:\n",
    "            yield x\n",
    "\n",
    "Counter(sum(m2(s, without(SUBSTRINGS, s))) for s in SUBSTRINGS)"
   ]
  },
  {
   "cell_type": "markdown",
   "metadata": {},
   "source": [
    "This is _extremely_ informative! It tells us that **composite substrings have only one other decomposition**. In other words, each time a composite substring is present, we simply multiply the possible decompositions by two."
   ]
  },
  {
   "cell_type": "code",
   "execution_count": 9,
   "metadata": {},
   "outputs": [],
   "source": [
    "COMPOSITES = {\n",
    "    s for s in SUBSTRINGS\n",
    "    if sum(m2(s, without(SUBSTRINGS, s))) == 1}"
   ]
  },
  {
   "cell_type": "markdown",
   "metadata": {},
   "source": [
    "A naïve solution – and indeed one tried – would be to assume the presence of any composite implies two possibilities (the composite, or its decomposed form); thus we might think\n",
    "```py\n",
    "2 ** sum(string.count(c) for c in COMPOSITES)\n",
    "```\n",
    "Consider, however, that string `abc` could be decomposed as `a+b+c`, `ab+c` and `a+bc` – because `ab` and `bc` have overlap, they are mutually independent. Therefore any time we saw `abc`, we could take the naïve count of possibilities and multiply by 3/4. So let's do just that!"
   ]
  },
  {
   "cell_type": "code",
   "execution_count": 17,
   "metadata": {},
   "outputs": [
    {
     "data": {
      "text/plain": [
       "1166"
      ]
     },
     "execution_count": 17,
     "metadata": {},
     "output_type": "execute_result"
    }
   ],
   "source": [
    "def decompose(composite: str):\n",
    "    parts = []\n",
    "    string = composite\n",
    "    while string:\n",
    "        for s in without(SUBSTRINGS, composite):\n",
    "            if string.startswith(s):\n",
    "                parts.append(s)\n",
    "                string = string.removeprefix(s)\n",
    "    return parts\n",
    "\n",
    "COMPOSITE_PARTS = list(decompose(ss) for ss in COMPOSITES)\n",
    "COMPOSITE_PARTS\n",
    "\n",
    "OVERLAPS = [\n",
    "    ''.join(ab+bc[1:]) for ab in COMPOSITE_PARTS for bc in COMPOSITE_PARTS\n",
    "    if ab[-1] == bc[0]\n",
    "]\n",
    "len(OVERLAPS)"
   ]
  },
  {
   "cell_type": "code",
   "execution_count": 18,
   "metadata": {},
   "outputs": [
    {
     "data": {
      "text/plain": [
       "4563447880091503.0"
      ]
     },
     "execution_count": 18,
     "metadata": {},
     "output_type": "execute_result"
    }
   ],
   "source": [
    "def possibilities(string: str):\n",
    "    score = 2 ** sum(string.count(c) for c in COMPOSITES)\n",
    "    score *= (3/4) ** sum(string.count(o) for o in OVERLAPS)\n",
    "    return score\n",
    "\n",
    "sum(map(possibilities, STRINGS))"
   ]
  },
  {
   "cell_type": "markdown",
   "metadata": {},
   "source": [
    "## Attempt 2: Maybe Memoization?"
   ]
  },
  {
   "cell_type": "code",
   "execution_count": 44,
   "metadata": {},
   "outputs": [
    {
     "data": {
      "text/plain": [
       "692596560138745"
      ]
     },
     "execution_count": 44,
     "metadata": {},
     "output_type": "execute_result"
    }
   ],
   "source": [
    "from functools import cache\n",
    "\n",
    "@cache\n",
    "def m2(string: str):\n",
    "    if string == '':\n",
    "        return 1\n",
    "    return sum(\n",
    "        m2(string.removeprefix(s))\n",
    "        for s in SUBSTRINGS\n",
    "        if string.startswith(s)\n",
    "    )\n",
    "\n",
    "sum(m2(s) for s in STRINGS)"
   ]
  }
 ],
 "metadata": {
  "kernelspec": {
   "display_name": "Python 3",
   "language": "python",
   "name": "python3"
  },
  "language_info": {
   "codemirror_mode": {
    "name": "ipython",
    "version": 3
   },
   "file_extension": ".py",
   "mimetype": "text/x-python",
   "name": "python",
   "nbconvert_exporter": "python",
   "pygments_lexer": "ipython3",
   "version": "3.12.7"
  }
 },
 "nbformat": 4,
 "nbformat_minor": 2
}
