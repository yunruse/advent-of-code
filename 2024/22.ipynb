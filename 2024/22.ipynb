{
 "cells": [
  {
   "cell_type": "code",
   "execution_count": 49,
   "metadata": {},
   "outputs": [],
   "source": [
    "with open('22.txt') as f:\n",
    "    secrets = [int(x) for x in f.read().splitlines()]"
   ]
  },
  {
   "cell_type": "markdown",
   "metadata": {},
   "source": [
    "# Part 1: PRNG emulation"
   ]
  },
  {
   "cell_type": "code",
   "execution_count": 50,
   "metadata": {},
   "outputs": [
    {
     "data": {
      "text/plain": [
       "21147129593"
      ]
     },
     "execution_count": 50,
     "metadata": {},
     "output_type": "execute_result"
    }
   ],
   "source": [
    "def prng(num: int, count: int = 1):\n",
    "    M = 16777216\n",
    "    for _ in range(count):\n",
    "        num = (num ^ (num *  64)) % M\n",
    "        num = (num ^ (num // 32)) % M\n",
    "        num = (num ^ (num * 2048)) % M\n",
    "    return num\n",
    "\n",
    "sum(prng(x, 2000) for x in secrets)"
   ]
  },
  {
   "cell_type": "markdown",
   "metadata": {},
   "source": [
    "# Part 2: Buy low, sell high!"
   ]
  },
  {
   "cell_type": "code",
   "execution_count": 51,
   "metadata": {},
   "outputs": [
    {
     "name": "stdout",
     "output_type": "stream",
     "text": [
      "(0, 0, -2, 2) 2445\n"
     ]
    }
   ],
   "source": [
    "from collections import deque\n",
    "\n",
    "FourDiffs = tuple[int, int, int, int]\n",
    "\n",
    "def prng_diffs(num: int, count: int = 1):\n",
    "    diffmap: dict[FourDiffs, int] = {}\n",
    "    diffs: deque[int] = deque(maxlen=4)\n",
    "    M = 16777216\n",
    "    d0 = None\n",
    "    for _ in range(count):\n",
    "        num = (num ^ (num *  64)) % M\n",
    "        num = (num ^ (num // 32)) % M\n",
    "        num = (num ^ (num * 2048)) % M\n",
    "        d = num % 10\n",
    "        if d0 is not None:\n",
    "            diffs.append(d - d0)\n",
    "        if len(diffs) == 4:\n",
    "            diffmap.setdefault(tuple(diffs), d)\n",
    "        d0 = d\n",
    "    return diffmap\n",
    "\n",
    "diffsqs = [\n",
    "    prng_diffs(x, 2000)\n",
    "    for x in secrets]\n",
    "\n",
    "maxtotal = 0\n",
    "maxseq = None\n",
    "\n",
    "possible_diffsqs = {k for d in diffsqs for k in d}\n",
    "\n",
    "for diffsq in possible_diffsqs:\n",
    "    total = sum(d.get(diffsq, 0) for d in diffsqs)\n",
    "    if total > maxtotal:\n",
    "        maxtotal = total\n",
    "        maxseq = diffsq\n",
    "\n",
    "print(maxseq, maxtotal)\n"
   ]
  }
 ],
 "metadata": {
  "kernelspec": {
   "display_name": "Python 3",
   "language": "python",
   "name": "python3"
  },
  "language_info": {
   "codemirror_mode": {
    "name": "ipython",
    "version": 3
   },
   "file_extension": ".py",
   "mimetype": "text/x-python",
   "name": "python",
   "nbconvert_exporter": "python",
   "pygments_lexer": "ipython3",
   "version": "3.12.7"
  }
 },
 "nbformat": 4,
 "nbformat_minor": 2
}
