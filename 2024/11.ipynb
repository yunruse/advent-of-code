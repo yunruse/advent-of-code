{
 "cells": [
  {
   "cell_type": "code",
   "execution_count": 83,
   "metadata": {},
   "outputs": [],
   "source": [
    "def blink_stone(x: int):\n",
    "    if x == 0:\n",
    "        yield 1\n",
    "    elif (L := len(s := str(x))) % 2 == 0:\n",
    "        yield int(s[:L//2])\n",
    "        yield int(s[L//2:])\n",
    "    else:\n",
    "        yield x * 2024\n",
    "\n",
    "def blink(stones: list[int]):\n",
    "    for x in stones:\n",
    "        yield from blink_stone(x)"
   ]
  },
  {
   "cell_type": "markdown",
   "metadata": {},
   "source": [
    "# Part 1"
   ]
  },
  {
   "cell_type": "code",
   "execution_count": 85,
   "metadata": {},
   "outputs": [
    {
     "data": {
      "text/plain": [
       "218956"
      ]
     },
     "execution_count": 85,
     "metadata": {},
     "output_type": "execute_result"
    }
   ],
   "source": [
    "with open('11.txt') as f:\n",
    "    stones = list(map(int, f.read().split()))\n",
    "\n",
    "for i in range(25):\n",
    "    stones = list(blink(stones))\n",
    "\n",
    "len(stones)"
   ]
  },
  {
   "cell_type": "markdown",
   "metadata": {},
   "source": [
    "# Part 2\n",
    "We're gonna have to be smarter than brute-forcing, and making a mathematical guess would be rather vague.\n",
    "\n",
    "Under the hood, there's nothing that actually matters about the order – only how many there are of what number. In other words:"
   ]
  },
  {
   "cell_type": "code",
   "execution_count": 88,
   "metadata": {},
   "outputs": [
    {
     "data": {
      "text/plain": [
       "259593838049805"
      ]
     },
     "execution_count": 88,
     "metadata": {},
     "output_type": "execute_result"
    }
   ],
   "source": [
    "from collections import Counter\n",
    "\n",
    "def blinkcount(stonecount: Counter):\n",
    "    newcount = Counter()\n",
    "    newcount\n",
    "    for num, count in stonecount.items():\n",
    "        for newnum in blink_stone(num):\n",
    "            newcount[newnum] += count\n",
    "    return newcount\n",
    "\n",
    "with open('11.txt') as f:\n",
    "    stones = Counter(map(int, f.read().split()))\n",
    "\n",
    "for i in range(75):\n",
    "    stones = blinkcount(stones)\n",
    "\n",
    "sum(stones.values())"
   ]
  }
 ],
 "metadata": {
  "kernelspec": {
   "display_name": "Python 3",
   "language": "python",
   "name": "python3"
  },
  "language_info": {
   "codemirror_mode": {
    "name": "ipython",
    "version": 3
   },
   "file_extension": ".py",
   "mimetype": "text/x-python",
   "name": "python",
   "nbconvert_exporter": "python",
   "pygments_lexer": "ipython3",
   "version": "3.12.7"
  }
 },
 "nbformat": 4,
 "nbformat_minor": 2
}
