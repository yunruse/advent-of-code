{
 "cells": [
  {
   "cell_type": "code",
   "execution_count": 46,
   "metadata": {},
   "outputs": [],
   "source": [
    "with open('10.txt') as f:\n",
    "    grid = [line.strip() for line in f.readlines()]"
   ]
  },
  {
   "cell_type": "code",
   "execution_count": 48,
   "metadata": {},
   "outputs": [
    {
     "data": {
      "text/plain": [
       "1801"
      ]
     },
     "execution_count": 48,
     "metadata": {},
     "output_type": "execute_result"
    }
   ],
   "source": [
    "DIRECTIONS = [\n",
    "    (0, +1),\n",
    "    (0, -1),\n",
    "    (-1, 0),\n",
    "    (+1, 0)\n",
    "]\n",
    "HEIGHT = len(grid)\n",
    "WIDTH = len(grid[0])\n",
    "\n",
    "def peaks_reachable(x, y):\n",
    "    h0 = int(grid[y][x])\n",
    "    # print(x, y, h0)\n",
    "    if h0 == 9:\n",
    "        yield x, y\n",
    "        return\n",
    "\n",
    "    for dx, dy in DIRECTIONS:\n",
    "        if not (0 <= x+dx < WIDTH):\n",
    "            continue\n",
    "        if not (0 <= y+dy < HEIGHT):\n",
    "             continue\n",
    "\n",
    "        h1 = int(grid[y+dy][x+dx])\n",
    "        if h1 == h0 + 1:\n",
    "            yield from peaks_reachable(x+dx, y+dy)\n",
    "\n",
    "N"
   ]
  },
  {
   "cell_type": "markdown",
   "metadata": {},
   "source": [
    "# Part 1\n",
    "We want _unique_ peaks reached; we don't care for paths (yet), so repeated peak values will be ignored."
   ]
  },
  {
   "cell_type": "code",
   "execution_count": 50,
   "metadata": {},
   "outputs": [
    {
     "data": {
      "text/plain": [
       "822"
      ]
     },
     "execution_count": 50,
     "metadata": {},
     "output_type": "execute_result"
    }
   ],
   "source": [
    "N = 0\n",
    "for y, line in enumerate(grid):\n",
    "    for x, char in enumerate(line):\n",
    "        if char == '0':\n",
    "            summand = len(set(peaks_reachable(x, y)))\n",
    "            N += summand\n",
    "N"
   ]
  },
  {
   "cell_type": "markdown",
   "metadata": {},
   "source": [
    "# Part 2\n",
    "Because `peaks_reachable` is iterative, it takes every path possible, so it's just a case of changing `set` to `list` to evaluate every possibility."
   ]
  },
  {
   "cell_type": "code",
   "execution_count": 51,
   "metadata": {},
   "outputs": [
    {
     "data": {
      "text/plain": [
       "1801"
      ]
     },
     "execution_count": 51,
     "metadata": {},
     "output_type": "execute_result"
    }
   ],
   "source": [
    "N = 0\n",
    "for y, line in enumerate(grid):\n",
    "    for x, char in enumerate(line):\n",
    "        if char == '0':\n",
    "            summand = len(list(peaks_reachable(x, y)))\n",
    "            N += summand\n",
    "N"
   ]
  }
 ],
 "metadata": {
  "kernelspec": {
   "display_name": "Python 3",
   "language": "python",
   "name": "python3"
  },
  "language_info": {
   "codemirror_mode": {
    "name": "ipython",
    "version": 3
   },
   "file_extension": ".py",
   "mimetype": "text/x-python",
   "name": "python",
   "nbconvert_exporter": "python",
   "pygments_lexer": "ipython3",
   "version": "3.12.7"
  }
 },
 "nbformat": 4,
 "nbformat_minor": 2
}
