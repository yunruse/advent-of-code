{
 "cells": [
  {
   "cell_type": "code",
   "execution_count": 97,
   "metadata": {},
   "outputs": [],
   "source": [
    "with open('16.txt') as f:\n",
    "    GRID = [line.strip() for line in f.readlines()]"
   ]
  },
  {
   "cell_type": "code",
   "execution_count": 98,
   "metadata": {},
   "outputs": [],
   "source": [
    "from typing import Literal\n",
    "\n",
    "Coord = tuple[int, int]\n",
    "Direction = Literal['>', '<', '^', 'v']\n",
    "DIRECTIONS: dict[Direction, Coord] = {\n",
    "    '>': (1, 0),\n",
    "    '<': (-1, 0),\n",
    "    '^': (0, -1),\n",
    "    'v': (0, +1),\n",
    "}\n",
    "# we want to go up and right, so we'll prioritise those first\n",
    "TURNS: dict[Direction, list[Direction]] = {\n",
    "    '>': '^v',\n",
    "    '<': '^v',\n",
    "    '^': '><',\n",
    "    'v': '><',\n",
    "}\n",
    "\n",
    "def finds(grid, target):\n",
    "    for y, line in enumerate(grid):\n",
    "        for x, char in enumerate(line):\n",
    "            if char == target:\n",
    "                return x, y\n",
    "\n",
    "START = finds(GRID, 'S')\n",
    "END = finds(GRID, 'E')"
   ]
  },
  {
   "cell_type": "code",
   "execution_count": 99,
   "metadata": {},
   "outputs": [
    {
     "name": "stdout",
     "output_type": "stream",
     "text": [
      "7036\n"
     ]
    }
   ],
   "source": [
    "def update_costs(\n",
    "    coord: Coord,\n",
    "    facing: Direction,\n",
    "    distances: dict[Coord, list[int]],\n",
    "    cost: int = 0\n",
    "):\n",
    "    x, y = coord\n",
    "    if GRID[y][x] == '#':\n",
    "        return distances\n",
    "    if (d := distances.get(coord)):\n",
    "        if cost > min(d):\n",
    "            return distances\n",
    "    distances.setdefault(coord, []).append(cost)\n",
    "    dx, dy = DIRECTIONS[facing]\n",
    "    distances = update_costs(\n",
    "        (x+dx, y+dy), facing, distances, cost+1)\n",
    "    for d in TURNS[facing]:\n",
    "        dx, dy = DIRECTIONS[d]\n",
    "        distances = update_costs(\n",
    "            (x+dx, y+dy), d, distances, cost+1001)\n",
    "\n",
    "    return distances\n",
    "\n",
    "print(min(update_costs(START, '>', {})[END]))"
   ]
  },
  {
   "cell_type": "markdown",
   "metadata": {},
   "source": [
    "# Part 2: Pathing"
   ]
  },
  {
   "cell_type": "markdown",
   "metadata": {},
   "source": [
    "## Attempt 1: Very Naïve, No Good Flood Fill\n",
    "As it turns out, the `cost < min(d)` requirement is not exhaustive – it excludes alternate paths which still fit the bill."
   ]
  },
  {
   "cell_type": "code",
   "execution_count": 100,
   "metadata": {},
   "outputs": [
    {
     "name": "stdout",
     "output_type": "stream",
     "text": [
      "###############\n",
      "#.......#....E#\n",
      "#.#.###.#.###O#\n",
      "#.....#.#...#O#\n",
      "#.###.#####.#O#\n",
      "#.#.#.......#O#\n",
      "#.#.#####.###O#\n",
      "#..OOOOOOOOO#O#\n",
      "###O#O#####O#O#\n",
      "#OOO#O....#O#O#\n",
      "#O#.#O###.#O#O#\n",
      "#OOOOO#...#O#O#\n",
      "#O###.#.#.#O#O#\n",
      "#O..#.....#OOO#\n",
      "###############\n",
      "44\n"
     ]
    }
   ],
   "source": [
    "from functools import reduce\n",
    "from operator import or_\n",
    "\n",
    "\n",
    "def get_valid_paths(\n",
    "    coord: Coord,\n",
    "    facing: Direction,\n",
    "    cost: int = 0,\n",
    "    path: list[Coord] = [],\n",
    "    distances: dict[Coord, list[int]] = dict(),\n",
    "):\n",
    "    x, y = coord\n",
    "    if GRID[y][x] == '#':\n",
    "        return\n",
    "    if GRID[y][x] == 'E':\n",
    "        yield cost, path\n",
    "    if coord in path:\n",
    "        return\n",
    "    path = path + [coord]\n",
    "    if (d := distances.get(coord)):\n",
    "        if cost > min(d):\n",
    "            return distances\n",
    "    distances.setdefault(coord, []).append(cost)\n",
    "\n",
    "    dx, dy = DIRECTIONS[facing]\n",
    "    yield from get_valid_paths(\n",
    "        (x+dx, y+dy), facing, cost+1, path, distances\n",
    "    )\n",
    "    for d in TURNS[facing]:\n",
    "        dx, dy = DIRECTIONS[d]\n",
    "        yield from get_valid_paths(\n",
    "            (x+dx, y+dy), d, cost+1001, path, distances)\n",
    "\n",
    "paths = list(get_valid_paths(START, '>'))\n",
    "minscore = min([s for s, _ in paths])\n",
    "minpaths = [set(x) for l, x in paths if l == minscore]\n",
    "tiles = reduce(or_, minpaths, set())\n",
    "grid2 = [list(line) for line in GRID]\n",
    "for x, y in tiles:\n",
    "    grid2[y][x] = 'O'\n",
    "print('\\n'.join(''.join(line) for line in grid2))\n",
    "print(len(tiles) + 1)"
   ]
  },
  {
   "cell_type": "markdown",
   "metadata": {},
   "source": [
    "## Attempt 2: Thinking With Portals"
   ]
  },
  {
   "cell_type": "code",
   "execution_count": null,
   "metadata": {},
   "outputs": [],
   "source": []
  },
  {
   "cell_type": "code",
   "execution_count": 101,
   "metadata": {},
   "outputs": [
    {
     "ename": "KeyboardInterrupt",
     "evalue": "",
     "output_type": "error",
     "traceback": [
      "\u001b[0;31m---------------------------------------------------------------------------\u001b[0m",
      "\u001b[0;31mKeyboardInterrupt\u001b[0m                         Traceback (most recent call last)",
      "Cell \u001b[0;32mIn[101], line 8\u001b[0m\n\u001b[1;32m      6\u001b[0m scores: \u001b[38;5;28mdict\u001b[39m[Coord, \u001b[38;5;28mint\u001b[39m] \u001b[38;5;241m=\u001b[39m \u001b[38;5;28mdict\u001b[39m()\n\u001b[1;32m      7\u001b[0m scores[START] \u001b[38;5;241m=\u001b[39m \u001b[38;5;241m0\u001b[39m\n\u001b[0;32m----> 8\u001b[0m \u001b[38;5;28;01mwhile\u001b[39;00m to_check:\n\u001b[1;32m      9\u001b[0m     \u001b[38;5;28;01mpass\u001b[39;00m\n",
      "\u001b[0;31mKeyboardInterrupt\u001b[0m: "
     ]
    }
   ],
   "source": [
    "from queue import Queue\n",
    "\n",
    "\n",
    "to_scan: Queue[Coord] = Queue()\n",
    "to_scan.put(START)\n",
    "scores: dict[Coord, int] = dict()\n",
    "scores[START] = 0\n",
    "while to_scan:\n",
    "    x, y = to_scan.get()\n",
    "    for dx, dy in DIRECTIONS.values():\n",
    "        coord = x+dx, y+dy\n",
    "        if coord in scores:\n",
    "            continue\n",
    "        to_scan.put(coord)\n",
    "        scores[coord] = scores[x, y] + 1\n",
    "\n"
   ]
  }
 ],
 "metadata": {
  "kernelspec": {
   "display_name": "Python 3",
   "language": "python",
   "name": "python3"
  },
  "language_info": {
   "codemirror_mode": {
    "name": "ipython",
    "version": 3
   },
   "file_extension": ".py",
   "mimetype": "text/x-python",
   "name": "python",
   "nbconvert_exporter": "python",
   "pygments_lexer": "ipython3",
   "version": "3.12.7"
  }
 },
 "nbformat": 4,
 "nbformat_minor": 2
}
