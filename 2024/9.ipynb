{
 "cells": [
  {
   "cell_type": "code",
   "execution_count": 6,
   "metadata": {},
   "outputs": [],
   "source": [
    "with open('9.txt') as f:\n",
    "    code = f.read().strip()"
   ]
  },
  {
   "cell_type": "markdown",
   "metadata": {},
   "source": [
    "# Part 1"
   ]
  },
  {
   "cell_type": "code",
   "execution_count": 2,
   "metadata": {},
   "outputs": [
    {
     "data": {
      "text/plain": [
       "'0123456789abcdefghijklmnopqrstuvwxyzABCDEFGHIJKLMNOPQRSTUVWXYZ!\"#$%&\\'()*+,-./:;<=>?@[\\\\]^_`{|}~ \\t\\n\\r\\x0b\\x0c'"
      ]
     },
     "execution_count": 2,
     "metadata": {},
     "output_type": "execute_result"
    }
   ],
   "source": []
  },
  {
   "cell_type": "code",
   "execution_count": 22,
   "metadata": {},
   "outputs": [],
   "source": [
    "Block = int | None\n",
    "\n",
    "def expand(code: str):\n",
    "    blocks: list[Block] = []\n",
    "    for i, N in enumerate(code):\n",
    "        if i % 2:\n",
    "            blocks += [None] * int(N)\n",
    "        else:\n",
    "            blocks += [i//2] * int(N)\n",
    "    return blocks\n",
    "\n",
    "def display(blocks: list[Block]):\n",
    "    from string import printable\n",
    "    return ''.join(\n",
    "        '.' if digit is None else printable[int(digit)]\n",
    "        for digit in blocks)\n",
    "\n",
    "def contract_piecewise(blocks: list[Block]):\n",
    "    blocks = list(blocks)\n",
    "    while None in blocks:\n",
    "        digit = blocks.pop()\n",
    "        if digit is None:\n",
    "            continue\n",
    "        index = blocks.index(None)\n",
    "        blocks[index] = digit\n",
    "    return blocks\n",
    "\n",
    "def summate(blocks: list[Block]):\n",
    "    return sum(\n",
    "        i * v for i, v in enumerate(blocks)\n",
    "        if v is not None)\n"
   ]
  },
  {
   "cell_type": "markdown",
   "metadata": {},
   "source": [
    "# Part 1"
   ]
  },
  {
   "cell_type": "code",
   "execution_count": 23,
   "metadata": {},
   "outputs": [
    {
     "data": {
      "text/plain": [
       "1928"
      ]
     },
     "execution_count": 23,
     "metadata": {},
     "output_type": "execute_result"
    }
   ],
   "source": [
    "EXAMPLE = '2333133121414131402'\n",
    "summate(contract_piecewise(expand(EXAMPLE)))"
   ]
  },
  {
   "cell_type": "code",
   "execution_count": 24,
   "metadata": {},
   "outputs": [
    {
     "data": {
      "text/plain": [
       "6241633730082"
      ]
     },
     "execution_count": 24,
     "metadata": {},
     "output_type": "execute_result"
    }
   ],
   "source": [
    "with open('9.txt') as f:\n",
    "    code = f.read().strip()\n",
    "\n",
    "summate(contract_piecewise(expand(code)))\n"
   ]
  },
  {
   "cell_type": "markdown",
   "metadata": {},
   "source": [
    "# Part 2"
   ]
  },
  {
   "cell_type": "code",
   "execution_count": null,
   "metadata": {},
   "outputs": [],
   "source": [
    "def free_space(blocks: list[Block]):\n",
    "    N = 0\n",
    "    for i, block in enumerate(blocks):\n",
    "        if block is not None:\n",
    "            if N:\n",
    "                yield i-N, N\n",
    "            N = 0\n",
    "        if block is None:\n",
    "            N += 1\n",
    "\n",
    "\n",
    "def contract_filewise(blocks: list[Block]):\n",
    "    blocks = list(blocks)\n",
    "    for fileno in range(blocks[-1], -1, -1):\n",
    "        i0 = blocks.index(fileno)\n",
    "        i1 = i0\n",
    "        while i1 < len(blocks) and blocks[i1] == fileno:\n",
    "            i1 += 1\n",
    "        filesize = i1 - i0\n",
    "        for j, size in free_space(blocks):\n",
    "            if size < filesize:\n",
    "                continue\n",
    "            if j >= i0:\n",
    "                continue\n",
    "            blocks[j:j+filesize] = blocks[i0:i0+filesize]\n",
    "            blocks[i0:i0+filesize] = [None] * filesize\n",
    "            break\n",
    "        \n",
    "    return blocks"
   ]
  },
  {
   "cell_type": "code",
   "execution_count": 56,
   "metadata": {},
   "outputs": [
    {
     "data": {
      "text/plain": [
       "2858"
      ]
     },
     "execution_count": 56,
     "metadata": {},
     "output_type": "execute_result"
    }
   ],
   "source": [
    "summate(contract_filewise(expand(EXAMPLE)))"
   ]
  },
  {
   "cell_type": "code",
   "execution_count": 58,
   "metadata": {},
   "outputs": [
    {
     "data": {
      "text/plain": [
       "6265268809555"
      ]
     },
     "execution_count": 58,
     "metadata": {},
     "output_type": "execute_result"
    }
   ],
   "source": [
    "summate(contract_filewise(expand(code)))\n"
   ]
  }
 ],
 "metadata": {
  "kernelspec": {
   "display_name": "Python 3",
   "language": "python",
   "name": "python3"
  },
  "language_info": {
   "codemirror_mode": {
    "name": "ipython",
    "version": 3
   },
   "file_extension": ".py",
   "mimetype": "text/x-python",
   "name": "python",
   "nbconvert_exporter": "python",
   "pygments_lexer": "ipython3",
   "version": "3.12.7"
  }
 },
 "nbformat": 4,
 "nbformat_minor": 2
}
