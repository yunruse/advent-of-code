{
 "cells": [
  {
   "cell_type": "code",
   "execution_count": 1,
   "metadata": {},
   "outputs": [
    {
     "data": {
      "text/plain": [
       "['SXXSAMSSMMSMMSXXXXMMXMMMMSMMMSSSXSAMXMXSXMASXMSMXSMMXSMSXMMASXMASMSSMMXSMSSSSSSXSXMAMXAMXSMSXSXXMMMMMXXMSSMMSXSASASMMSXMASXSSSSSMXMASMSMXAMX',\n",
       " 'SAXMASAXMASAAXMASXSSXSAAASASAAXMASMXXSASAMXAAAAMMSAMAMXSAAXASAMSXXAAXMMSAMAAAASAMXXMMSXSASXSAMXMSAAAMMMMASXXAAXASXSAAXAXAAAXAAXAMSMMMAAAASMM']"
      ]
     },
     "execution_count": 1,
     "metadata": {},
     "output_type": "execute_result"
    }
   ],
   "source": [
    "with open('04.txt') as f:\n",
    "    text = [line.strip() for line in f.readlines()]\n",
    "\n",
    "text[:2]"
   ]
  },
  {
   "cell_type": "markdown",
   "metadata": {},
   "source": [
    "# Part 1: Wordsearch"
   ]
  },
  {
   "cell_type": "markdown",
   "metadata": {},
   "source": [
    "The obvious approach is that we search through for each X and then iterate over each direction."
   ]
  },
  {
   "cell_type": "code",
   "execution_count": 2,
   "metadata": {},
   "outputs": [],
   "source": [
    "ALL_DIRECTIONS = [\n",
    "    (0, 1),\n",
    "    (1, 0),\n",
    "    (0, -1),\n",
    "    (-1, 0),\n",
    "    (-1, 1),\n",
    "    (1, 1),\n",
    "    (1, -1),\n",
    "    (-1, -1),\n",
    "]"
   ]
  },
  {
   "cell_type": "code",
   "execution_count": 3,
   "metadata": {},
   "outputs": [
    {
     "data": {
      "text/plain": [
       "2593"
      ]
     },
     "execution_count": 3,
     "metadata": {},
     "output_type": "execute_result"
    }
   ],
   "source": [
    "def wordsearch(array: list[str], search: str):\n",
    "    count = 0\n",
    "    for x, line in enumerate(array):\n",
    "        for y, char in enumerate(line):\n",
    "            if char != search[0]:\n",
    "                continue\n",
    "            for dx, dy in ALL_DIRECTIONS:\n",
    "                for i in range(1, len(search)):\n",
    "                    xs = x + dx*i\n",
    "                    ys = y + dy*i\n",
    "                    if not (0 <= xs < len(array)):\n",
    "                        break\n",
    "                    if not (0 <= ys < len(array[xs])):\n",
    "                        break\n",
    "                    if search[i] != array[xs][ys]:\n",
    "                        break\n",
    "                else:\n",
    "                    count += 1\n",
    "    return count\n",
    "\n",
    "wordsearch(text, 'XMAS')"
   ]
  },
  {
   "cell_type": "markdown",
   "metadata": {},
   "source": [
    "# Part 2: X-MAS"
   ]
  },
  {
   "cell_type": "markdown",
   "metadata": {},
   "source": [
    "Rather than genericise this one, we'll hard code to search for A, and then M and S on the diagonals. We can search the inner part of the square, avoiding boundary checks:"
   ]
  },
  {
   "cell_type": "code",
   "execution_count": 4,
   "metadata": {},
   "outputs": [
    {
     "data": {
      "text/plain": [
       "1950"
      ]
     },
     "execution_count": 4,
     "metadata": {},
     "output_type": "execute_result"
    }
   ],
   "source": [
    "HEIGHT = len(text)\n",
    "WIDTH = len(text[0])\n",
    "\n",
    "count = 0\n",
    "for y in range(1, HEIGHT-1):\n",
    "    for x in range(1, WIDTH-1):\n",
    "        if text[y][x] != 'A':\n",
    "            continue\n",
    "\n",
    "        s1 = text[y-1][x-1] + text[y][x] + text[y+1][x+1]\n",
    "        s2 = text[y+1][x-1] + text[y][x] + text[y-1][x+1]\n",
    "        if s1 == s2 == 'MAS' or s1 == s2 == 'SAM':\n",
    "            count += 1\n",
    "        elif s1 == s2[::-1] == 'MAS' or s1 == s2[::-1] == 'SAM':\n",
    "            count += 1\n",
    "\n",
    "\n",
    "count"
   ]
  }
 ],
 "metadata": {
  "kernelspec": {
   "display_name": "Python 3",
   "language": "python",
   "name": "python3"
  },
  "language_info": {
   "codemirror_mode": {
    "name": "ipython",
    "version": 3
   },
   "file_extension": ".py",
   "mimetype": "text/x-python",
   "name": "python",
   "nbconvert_exporter": "python",
   "pygments_lexer": "ipython3",
   "version": "3.12.7"
  }
 },
 "nbformat": 4,
 "nbformat_minor": 2
}
