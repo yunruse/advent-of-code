{
 "cells": [
  {
   "cell_type": "code",
   "execution_count": 170,
   "metadata": {},
   "outputs": [],
   "source": [
    "with open('15.txt') as f:\n",
    "    grid, instrs = f.read().split('\\n\\n')\n",
    "    instrs = instrs.replace('\\n', '').strip()\n",
    "    grid = grid.strip()\n",
    "\n",
    "DIRECTIONS = {\n",
    "    'v': ( 0, +1),\n",
    "    '^': ( 0, -1),\n",
    "    '<': (-1,  0),\n",
    "    '>': (+1,  0),\n",
    "}"
   ]
  },
  {
   "cell_type": "code",
   "execution_count": 171,
   "metadata": {},
   "outputs": [],
   "source": [
    "# We'll account for `[` so we don't need to repeat ourselves:\n",
    "\n",
    "Coord = tuple[int, int]\n",
    "def to_dict(grid: str):\n",
    "    robot = None\n",
    "    obstacles: dict[Coord, str] = dict()\n",
    "    for y, line in enumerate(grid.splitlines()):\n",
    "        for x, char in enumerate(line):\n",
    "            if char == '@':\n",
    "                robot = x, y\n",
    "            elif char in 'O#[':\n",
    "                obstacles[x, y] = char\n",
    "    assert robot\n",
    "    return robot, obstacles\n",
    "\n",
    "def to_str(robot: Coord, obstacles: dict[Coord, str]):\n",
    "    xs, ys = list(zip(*obstacles.keys()))\n",
    "    grid = [['.' for _ in range(max(xs)+1)] for _ in range(max(ys)+1)]\n",
    "    for (x, y), char in obstacles.items():\n",
    "        grid[y][x] = char\n",
    "    grid[robot[1]][robot[0]] = '@'\n",
    "    \n",
    "    return '\\n'.join(''.join(line) for line in grid).replace('[.', '[]')\n",
    "\n",
    "assert grid == to_str(*to_dict(grid))"
   ]
  },
  {
   "cell_type": "markdown",
   "metadata": {},
   "source": [
    "# Part 1: Single-width"
   ]
  },
  {
   "cell_type": "code",
   "execution_count": 172,
   "metadata": {},
   "outputs": [],
   "source": [
    "def push(robot: Coord, obstacles: dict[Coord, str], dir: Coord, box_width=1, box_char='O'):\n",
    "    rx, ry = robot\n",
    "    dx, dy = dir\n",
    "    moving_boxes = []\n",
    "    bx, by = rx+dx, ry+dy\n",
    "\n",
    "    if obstacles.get((bx-1, by)) == '[':\n",
    "        bx -= 1\n",
    "\n",
    "    while (char := obstacles.get((bx, by), '.')) not in '#.':\n",
    "        moving_boxes.append((bx, by))\n",
    "        bx += dx * box_width\n",
    "        by += dy\n",
    "\n",
    "    if char == '#' and box_width == 2:\n",
    "        # print('EVIL BEHAVIOUR', obstacles.get((bx-dx, by), '.'), dx)\n",
    "        # due to the way we've coded this we're in a very evil and subtle little behaviour.\n",
    "        # we've pushed to the edge but is there a single gap to push into?\n",
    "        assert dy == 0\n",
    "        if moving_boxes and obstacles.get((bx-dx, by), '.') == '.':\n",
    "            char = '.'\n",
    "            if dx == 1:\n",
    "                # print('DOUBLE EVIL BEHAVIOUR')\n",
    "                # print(+1, obstacles.get((bx+1, by), '.'))\n",
    "                # print(0, obstacles.get((bx, by), '.'))\n",
    "                # print(-1, obstacles.get((bx-1, by), '.'))\n",
    "                # print(-2, obstacles.get((bx-2, by), '.'))\n",
    "                if obstacles.get((bx-2, by), '.') == '[':\n",
    "                    char = ']'\n",
    "        # print('evil behaviour.')\n",
    "    \n",
    "    if char == '.':\n",
    "        if moving_boxes:\n",
    "            pass\n",
    "            # print('left' if dx == -1 else 'right', moving_boxes)\n",
    "            # print(to_str((rx, ry), obstacles))\n",
    "        rx += dx\n",
    "        ry += dy\n",
    "        for bx, by in moving_boxes:\n",
    "            obstacles.pop((bx, by))\n",
    "        for bx, by in moving_boxes:\n",
    "            obstacles[(bx+dx, by+dy)] = box_char\n",
    "    \n",
    "    return (rx, ry), obstacles\n",
    "\n",
    "def move1(robot: Coord, obstacles: dict[Coord, str], instrs: list[str]):\n",
    "    for d in instrs:\n",
    "        robot, obstacles = push(robot, obstacles, DIRECTIONS.get(d))\n",
    "    \n",
    "    return robot, obstacles"
   ]
  },
  {
   "cell_type": "code",
   "execution_count": 173,
   "metadata": {},
   "outputs": [
    {
     "data": {
      "text/plain": [
       "1398947"
      ]
     },
     "execution_count": 173,
     "metadata": {},
     "output_type": "execute_result"
    }
   ],
   "source": [
    "robot, obstacles = move1(*to_dict(grid), instrs)\n",
    "sum(y*100 + x for (x, y), char in obstacles.items() if char == 'O')\n"
   ]
  },
  {
   "cell_type": "markdown",
   "metadata": {},
   "source": [
    "# Part 2: Double Width"
   ]
  },
  {
   "cell_type": "code",
   "execution_count": 174,
   "metadata": {},
   "outputs": [],
   "source": [
    "grid2 = grid.replace('#', '##').replace('O', '[]').replace('.', '..').replace('@', '@.')"
   ]
  },
  {
   "cell_type": "code",
   "execution_count": 175,
   "metadata": {},
   "outputs": [
    {
     "data": {
      "text/plain": [
       "1397393"
      ]
     },
     "execution_count": 175,
     "metadata": {},
     "output_type": "execute_result"
    }
   ],
   "source": [
    "def get_obstacles(obstacles: dict[Coord, str], xy: Coord, dy: int):\n",
    "    x, y = xy\n",
    "\n",
    "    char = obstacles.get((x, y+dy), None)\n",
    "    if not char:\n",
    "        x -= 1\n",
    "        char = obstacles.get((x, y+dy), None)\n",
    "        if char != '[':\n",
    "            return\n",
    "\n",
    "    yield (x, y+dy, char)\n",
    "    if char == '#':\n",
    "        return\n",
    "    if char == '[':\n",
    "        yield from get_obstacles(obstacles, (x, y+dy), dy)\n",
    "        yield from get_obstacles(obstacles, (x+1, y+dy), dy)\n",
    "\n",
    "def move2(robot: Coord, obstacles: dict[Coord, str], instrs: list[tuple[int, int]]):\n",
    "    rx, ry = robot\n",
    "    for direction in instrs:\n",
    "        dx, dy = DIRECTIONS.get(direction)\n",
    "        if dy == 0:\n",
    "            (rx, ry), obstacles = push((rx, ry), obstacles, (dx, dy), box_width=2, box_char='[')\n",
    "        else:\n",
    "            things_to_push = set(get_obstacles(obstacles, (rx, ry), dy))\n",
    "            if any(c == '#' for _,_,c in things_to_push):\n",
    "                show((rx, ry), obstacles, direction)\n",
    "                continue\n",
    "            moving_boxes = [(bx, by) for bx, by, _ in things_to_push]\n",
    "            for bx, by in moving_boxes:\n",
    "                obstacles.pop((bx, by))\n",
    "            for bx, by in moving_boxes:\n",
    "                obstacles[(bx, by+dy)] = '['\n",
    "            rx += dx\n",
    "            ry += dy\n",
    "        show((rx, ry), obstacles, direction)\n",
    "    \n",
    "    return (rx, ry), obstacles\n",
    "\n",
    "\n",
    "robot, obstacles = move2(*to_dict(grid2), instrs)\n",
    "# print(to_str(robot, obstacles))\n",
    "\n",
    "sum(y*100 + x for (x, y), char in obstacles.items() if char == '[')"
   ]
  }
 ],
 "metadata": {
  "kernelspec": {
   "display_name": "Python 3",
   "language": "python",
   "name": "python3"
  },
  "language_info": {
   "codemirror_mode": {
    "name": "ipython",
    "version": 3
   },
   "file_extension": ".py",
   "mimetype": "text/x-python",
   "name": "python",
   "nbconvert_exporter": "python",
   "pygments_lexer": "ipython3",
   "version": "3.12.7"
  }
 },
 "nbformat": 4,
 "nbformat_minor": 2
}
