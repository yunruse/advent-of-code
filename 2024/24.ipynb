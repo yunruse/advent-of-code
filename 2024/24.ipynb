{
 "cells": [
  {
   "cell_type": "code",
   "execution_count": 3,
   "metadata": {},
   "outputs": [],
   "source": [
    "values: dict[str, int] = {}\n",
    "wires: dict[str, tuple[str, str, str]] = {}\n",
    "\n",
    "\n",
    "with open('24.txt') as f:\n",
    "    value_raw, wire_raw = f.read().strip().split('\\n\\n')\n",
    "    for line in value_raw.split('\\n'):\n",
    "        k, v = line.split(': ')\n",
    "        values[k] = int(v)\n",
    "\n",
    "    for line in wire_raw.split('\\n'):\n",
    "        v, k = line.split(' -> ')\n",
    "        wires[k] = v.split()"
   ]
  },
  {
   "cell_type": "markdown",
   "metadata": {},
   "source": [
    "# Part 1: Cross-evaluation"
   ]
  },
  {
   "cell_type": "code",
   "execution_count": 4,
   "metadata": {},
   "outputs": [
    {
     "data": {
      "text/plain": [
       "48508229772400"
      ]
     },
     "execution_count": 4,
     "metadata": {},
     "output_type": "execute_result"
    }
   ],
   "source": [
    "def evaluate(key: str):\n",
    "    if key not in values:\n",
    "        assert key in wires\n",
    "        a, op, b = wires[key]\n",
    "        match op:\n",
    "            case 'OR':  c = evaluate(a) | evaluate(b)\n",
    "            case 'XOR': c = evaluate(a) ^ evaluate(b)\n",
    "            case 'AND': c = evaluate(a) & evaluate(b)\n",
    "        values[key] = c\n",
    "    \n",
    "    return values[key]\n",
    "\n",
    "N = 0\n",
    "while (k := f'z{N:02d}') in wires:\n",
    "    N += 1\n",
    "\n",
    "int(''.join(str(evaluate(f'z{i:02d}')) for i in reversed(range(N))), 2)"
   ]
  }
 ],
 "metadata": {
  "kernelspec": {
   "display_name": "Python 3",
   "language": "python",
   "name": "python3"
  },
  "language_info": {
   "codemirror_mode": {
    "name": "ipython",
    "version": 3
   },
   "file_extension": ".py",
   "mimetype": "text/x-python",
   "name": "python",
   "nbconvert_exporter": "python",
   "pygments_lexer": "ipython3",
   "version": "3.12.7"
  }
 },
 "nbformat": 4,
 "nbformat_minor": 2
}
