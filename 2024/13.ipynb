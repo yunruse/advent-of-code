{
 "cells": [
  {
   "cell_type": "code",
   "execution_count": 31,
   "metadata": {},
   "outputs": [],
   "source": [
    "def readline(line: str):\n",
    "    _, seg = line.replace(', ', '').split('X')\n",
    "    x, y = seg.split('Y')\n",
    "    return int(x[1:]), int(y[1:])\n",
    "\n",
    "with open('13.txt') as f:\n",
    "    games = [\n",
    "        tuple(readline(l) for l in chunk.splitlines())\n",
    "        for chunk in f.read().split('\\n\\n')]"
   ]
  },
  {
   "cell_type": "markdown",
   "metadata": {},
   "source": [
    "# Part 1"
   ]
  },
  {
   "cell_type": "code",
   "execution_count": 32,
   "metadata": {},
   "outputs": [
    {
     "data": {
      "text/plain": [
       "40369.0"
      ]
     },
     "execution_count": 32,
     "metadata": {},
     "output_type": "execute_result"
    }
   ],
   "source": [
    "cost = 0\n",
    "for a, b, desired in games:\n",
    "    a = complex(*a)\n",
    "    b = complex(*b)\n",
    "    desired = complex(*desired)\n",
    "    for N_a in range(100):\n",
    "        target = desired - a * N_a\n",
    "        N_b = target / b\n",
    "        if abs(N_b.imag) < 1e-4:\n",
    "            N_b = round(N_b.real)\n",
    "            cost += 3*N_a + N_b\n",
    "            break\n",
    "cost"
   ]
  },
  {
   "cell_type": "markdown",
   "metadata": {},
   "source": [
    "# Part 2"
   ]
  },
  {
   "cell_type": "markdown",
   "metadata": {},
   "source": [
    "Hey, this is just linear algebra!\n",
    "\n",
    "$$\n",
    "\\begin{bmatrix}\n",
    "x_a && y_a \\\\\n",
    "y_b && y_b\n",
    "\\end{bmatrix}\n",
    "\\begin{bmatrix}\n",
    "N_a \\\\ N_b\n",
    "\\end{bmatrix}\n",
    "= \\begin{bmatrix}\n",
    "x_T \\\\ y_T\n",
    "\\end{bmatrix}\n",
    "$$"
   ]
  },
  {
   "cell_type": "code",
   "execution_count": 40,
   "metadata": {},
   "outputs": [
    {
     "data": {
      "text/plain": [
       "72587986598368"
      ]
     },
     "execution_count": 40,
     "metadata": {},
     "output_type": "execute_result"
    }
   ],
   "source": [
    "from numpy import round, allclose\n",
    "from numpy.linalg import inv\n",
    "\n",
    "cost = 0\n",
    "for a, b, desired in games:\n",
    "    dx, dy = desired\n",
    "    dx += 10000000000000\n",
    "    dy += 10000000000000\n",
    "    x = inv([a, b]).T @ (dx, dy)\n",
    "    rx = round(x)\n",
    "    if allclose(x, rx, rtol=0, atol=1e-4):\n",
    "        cost += rx[0]*3 + rx[1]\n",
    "int(cost)"
   ]
  }
 ],
 "metadata": {
  "kernelspec": {
   "display_name": "Python 3",
   "language": "python",
   "name": "python3"
  },
  "language_info": {
   "codemirror_mode": {
    "name": "ipython",
    "version": 3
   },
   "file_extension": ".py",
   "mimetype": "text/x-python",
   "name": "python",
   "nbconvert_exporter": "python",
   "pygments_lexer": "ipython3",
   "version": "3.12.7"
  }
 },
 "nbformat": 4,
 "nbformat_minor": 2
}
