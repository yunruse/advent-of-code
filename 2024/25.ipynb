{
 "cells": [
  {
   "cell_type": "code",
   "execution_count": 18,
   "metadata": {},
   "outputs": [],
   "source": [
    "from itertools import product\n",
    "\n",
    "\n",
    "keys = []\n",
    "locks = []\n",
    "with open('25.txt') as f:\n",
    "    grids = f.read().split('\\n\\n')\n",
    "    for g in grids:\n",
    "        g = g.split('\\n')\n",
    "        is_keys = g[-1] == '#####'\n",
    "        if is_keys:\n",
    "            g = g[::-1]\n",
    "        score = [q.count('#') for q in zip(*g)]\n",
    "        (keys if is_keys else locks).append(score)"
   ]
  },
  {
   "cell_type": "markdown",
   "metadata": {},
   "source": [
    "# Part 1: Combinatorics"
   ]
  },
  {
   "cell_type": "code",
   "execution_count": 19,
   "metadata": {},
   "outputs": [
    {
     "data": {
      "text/plain": [
       "3508"
      ]
     },
     "execution_count": 19,
     "metadata": {},
     "output_type": "execute_result"
    }
   ],
   "source": [
    "sum(all(i+j < 8 for i, j in zip(l, k)) for l, k in product(locks, keys))"
   ]
  }
 ],
 "metadata": {
  "kernelspec": {
   "display_name": "Python 3",
   "language": "python",
   "name": "python3"
  },
  "language_info": {
   "codemirror_mode": {
    "name": "ipython",
    "version": 3
   },
   "file_extension": ".py",
   "mimetype": "text/x-python",
   "name": "python",
   "nbconvert_exporter": "python",
   "pygments_lexer": "ipython3",
   "version": "3.12.7"
  }
 },
 "nbformat": 4,
 "nbformat_minor": 2
}
