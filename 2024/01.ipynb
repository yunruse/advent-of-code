{
 "cells": [
  {
   "cell_type": "markdown",
   "metadata": {},
   "source": [
    "Load the lists!"
   ]
  },
  {
   "cell_type": "code",
   "execution_count": 1,
   "metadata": {},
   "outputs": [],
   "source": [
    "lefts = []\n",
    "rights = []\n",
    "with open('01.txt') as f:\n",
    "    for line in f.readlines():\n",
    "        l, r = line.split()\n",
    "        lefts.append(int(l))\n",
    "        rights.append(int(r))\n",
    "\n",
    "lefts.sort()\n",
    "rights.sort()"
   ]
  },
  {
   "cell_type": "markdown",
   "metadata": {},
   "source": [
    "Part 1 is the summand of the differences:"
   ]
  },
  {
   "cell_type": "code",
   "execution_count": 2,
   "metadata": {},
   "outputs": [
    {
     "name": "stdout",
     "output_type": "stream",
     "text": [
      "1580061\n"
     ]
    }
   ],
   "source": [
    "summand = 0\n",
    "for a, b in zip(lefts, rights):\n",
    "    summand += abs(a - b)\n",
    "print(summand)"
   ]
  },
  {
   "cell_type": "markdown",
   "metadata": {},
   "source": [
    "Part 2 is the \"similarity\", i.e."
   ]
  },
  {
   "cell_type": "code",
   "execution_count": 3,
   "metadata": {},
   "outputs": [
    {
     "name": "stdout",
     "output_type": "stream",
     "text": [
      "[(10035, 1), (10157, 1), (10182, 1), (10199, 1), (10277, 1)]\n",
      "[(50980, 20), (96101, 20), (23559, 19), (93653, 19), (28090, 18)]\n"
     ]
    }
   ],
   "source": [
    "from collections import Counter\n",
    "left_c = Counter(lefts)\n",
    "right_c = Counter(rights)\n",
    "\n",
    "print(left_c.most_common(5))\n",
    "print(right_c.most_common(5))"
   ]
  },
  {
   "cell_type": "code",
   "execution_count": 4,
   "metadata": {},
   "outputs": [
    {
     "data": {
      "text/plain": [
       "23046913"
      ]
     },
     "execution_count": 4,
     "metadata": {},
     "output_type": "execute_result"
    }
   ],
   "source": [
    "score = 0\n",
    "for l in lefts:\n",
    "    score += l * right_c[l]\n",
    "score"
   ]
  }
 ],
 "metadata": {
  "kernelspec": {
   "display_name": "Python 3",
   "language": "python",
   "name": "python3"
  },
  "language_info": {
   "codemirror_mode": {
    "name": "ipython",
    "version": 3
   },
   "file_extension": ".py",
   "mimetype": "text/x-python",
   "name": "python",
   "nbconvert_exporter": "python",
   "pygments_lexer": "ipython3",
   "version": "3.12.7"
  }
 },
 "nbformat": 4,
 "nbformat_minor": 2
}
