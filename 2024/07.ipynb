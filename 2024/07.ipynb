{
 "cells": [
  {
   "cell_type": "code",
   "execution_count": 2,
   "metadata": {},
   "outputs": [
    {
     "data": {
      "text/plain": [
       "[(3240922, [256, 6, 83, 6, 8, 2, 76, 2, 2]),\n",
       " (4781829, [3, 1, 471, 3, 23, 80, 49, 556]),\n",
       " (185303830, [72, 646, 498, 8, 15, 7]),\n",
       " (4396909609, [594, 17, 67, 1, 6, 9, 74, 845]),\n",
       " (51395424, [611, 9, 7, 24, 85, 579, 348])]"
      ]
     },
     "execution_count": 2,
     "metadata": {},
     "output_type": "execute_result"
    }
   ],
   "source": [
    "equations = []\n",
    "with open('07.txt') as f:\n",
    "    for line in f.readlines():\n",
    "        result, parts = line.split(': ')\n",
    "        parts = list(map(int, parts.split()))\n",
    "        equations.append((int(result), parts))\n",
    "\n",
    "equations[:5]\n"
   ]
  },
  {
   "cell_type": "markdown",
   "metadata": {},
   "source": [
    "# Part 1"
   ]
  },
  {
   "cell_type": "code",
   "execution_count": 3,
   "metadata": {},
   "outputs": [
    {
     "data": {
      "text/plain": [
       "1430271835320"
      ]
     },
     "execution_count": 3,
     "metadata": {},
     "output_type": "execute_result"
    }
   ],
   "source": [
    "def operate(parts: list[int], _left: int = None):\n",
    "    if len(parts) == 1:\n",
    "        yield _left * parts[0]\n",
    "        yield _left + parts[0]\n",
    "        return\n",
    "\n",
    "    right, *rest = parts\n",
    "    \n",
    "    if _left == None:\n",
    "        yield from operate(rest, right)\n",
    "    \n",
    "    else:\n",
    "        yield from operate(rest, _left * right)\n",
    "        yield from operate(rest, _left + right)\n",
    "\n",
    "sum(result for (result, parts) in equations\n",
    "    if any(r == result for r in operate(parts)))"
   ]
  },
  {
   "cell_type": "markdown",
   "metadata": {},
   "source": [
    "# Part 2"
   ]
  },
  {
   "cell_type": "code",
   "execution_count": 4,
   "metadata": {},
   "outputs": [
    {
     "data": {
      "text/plain": [
       "456565678667482"
      ]
     },
     "execution_count": 4,
     "metadata": {},
     "output_type": "execute_result"
    }
   ],
   "source": [
    "def operate(parts: list[int], _left: int = None):\n",
    "    if len(parts) == 1:\n",
    "        yield _left * parts[0]\n",
    "        yield _left + parts[0]\n",
    "        yield int(str(_left) + str(parts[0]))\n",
    "        return\n",
    "\n",
    "    right, *rest = parts\n",
    "    \n",
    "    if _left == None:\n",
    "        yield from operate(rest, right)\n",
    "    \n",
    "    else:\n",
    "        yield from operate(rest, _left * right)\n",
    "        yield from operate(rest, _left + right)\n",
    "        yield from operate(rest, int(str(_left) + str(right)))\n",
    "\n",
    "sum(result for (result, parts) in equations\n",
    "    if any(r == result for r in operate(parts)))"
   ]
  }
 ],
 "metadata": {
  "kernelspec": {
   "display_name": "Python 3",
   "language": "python",
   "name": "python3"
  },
  "language_info": {
   "codemirror_mode": {
    "name": "ipython",
    "version": 3
   },
   "file_extension": ".py",
   "mimetype": "text/x-python",
   "name": "python",
   "nbconvert_exporter": "python",
   "pygments_lexer": "ipython3",
   "version": "3.12.7"
  }
 },
 "nbformat": 4,
 "nbformat_minor": 2
}
