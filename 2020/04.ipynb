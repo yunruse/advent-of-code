{
 "cells": [
  {
   "cell_type": "code",
   "execution_count": 1,
   "metadata": {},
   "outputs": [],
   "source": [
    "with open('04.txt') as f:\n",
    "    records = [\n",
    "        dict(line.split(':') for line in r.split())\n",
    "        for r in f.read().split('\\n\\n')]"
   ]
  },
  {
   "cell_type": "markdown",
   "metadata": {},
   "source": [
    "# Part 1: Field presence"
   ]
  },
  {
   "cell_type": "code",
   "execution_count": 2,
   "metadata": {},
   "outputs": [
    {
     "data": {
      "text/plain": [
       "210"
      ]
     },
     "execution_count": 2,
     "metadata": {},
     "output_type": "execute_result"
    }
   ],
   "source": [
    "FIELDS = {'byr', 'iyr', 'eyr', 'hgt', 'hcl', 'ecl', 'pid'}\n",
    "sum(set(r.keys()) >= FIELDS for r in records)"
   ]
  },
  {
   "cell_type": "markdown",
   "metadata": {},
   "source": [
    "# Part 2: Field validation"
   ]
  },
  {
   "cell_type": "code",
   "execution_count": 3,
   "metadata": {},
   "outputs": [
    {
     "data": {
      "text/plain": [
       "131"
      ]
     },
     "execution_count": 3,
     "metadata": {},
     "output_type": "execute_result"
    }
   ],
   "source": [
    "def ints(s: str, l: int, u: int):\n",
    "    return bool(s) and s.isdigit() and int(s) in range(l, u+1)\n",
    "\n",
    "HEXDIGITS = set('01234567890abcdefABCDEF')\n",
    "ECL = 'amb blu brn gry grn hzl oth'.split()\n",
    "\n",
    "def valid(record: dict):\n",
    "    return (\n",
    "        ints(record.get('byr'), 1920, 2002) and\n",
    "        ints(record.get('iyr'), 2010, 2020) and\n",
    "        ints(record.get('eyr'), 2020, 2030) and\n",
    "        record.get('ecl') in ECL and\n",
    "        isinstance(hgt := record.get('hgt'), str) and\n",
    "        (\n",
    "            ints(hgt.removesuffix('in'), 59, 76)\n",
    "            if hgt.endswith('in')\n",
    "            else ints(hgt.removesuffix('cm'), 150, 193)\n",
    "        ) and\n",
    "        isinstance(hcl := record.get('hcl'), str) and\n",
    "        hcl.startswith('#') and\n",
    "        len(hcl) == 7 and\n",
    "        set(hcl[1:]) < HEXDIGITS and\n",
    "        isinstance(pid := record.get('pid'), str) and\n",
    "        len(pid) == 9 and\n",
    "        pid.isdigit()\n",
    "    )\n",
    "\n",
    "\n",
    "sum(map(valid, records))"
   ]
  }
 ],
 "metadata": {
  "kernelspec": {
   "display_name": "Python 3",
   "language": "python",
   "name": "python3"
  },
  "language_info": {
   "codemirror_mode": {
    "name": "ipython",
    "version": 3
   },
   "file_extension": ".py",
   "mimetype": "text/x-python",
   "name": "python",
   "nbconvert_exporter": "python",
   "pygments_lexer": "ipython3",
   "version": "3.12.7"
  }
 },
 "nbformat": 4,
 "nbformat_minor": 2
}
